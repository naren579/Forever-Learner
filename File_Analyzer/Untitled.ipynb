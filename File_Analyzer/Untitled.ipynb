{
 "cells": [
  {
   "cell_type": "code",
   "execution_count": 1,
   "id": "3692adce-e4ec-4727-b781-48ed30cdd860",
   "metadata": {},
   "outputs": [],
   "source": [
    "import pandas as pd\n",
    "import numpy as np\n",
    "from scipy import stats\n"
   ]
  },
  {
   "cell_type": "code",
   "execution_count": 2,
   "id": "09a5935c-ffc4-4de3-a1f7-d44ff52b6b52",
   "metadata": {},
   "outputs": [],
   "source": [
    "df = pd.read_csv('World University Rankings 2023.csv')"
   ]
  },
  {
   "cell_type": "code",
   "execution_count": 41,
   "id": "a7d2c1a4-c7ab-43d6-aca2-708d1657b124",
   "metadata": {},
   "outputs": [
    {
     "name": "stdout",
     "output_type": "stream",
     "text": [
      "University Rank\n",
      "Name of University\n",
      "Location\n",
      "International Student\n",
      "Female:Male Ratio\n",
      "OverAll Score\n"
     ]
    }
   ],
   "source": [
    "for i in df.select_dtypes('object').columns:\n",
    "    print(i)\n",
    "    if len(df[i].mode())>1:\n",
    "        try:\n",
    "            df[i] = pd.to_numeric(df[i])\n",
    "        except ValueError as e:\n",
    "            rand_index=np.random.choice(df[i][~df[i].isna()].index,1)\n",
    "            #x=str(e)\n",
    "            x_str=re.sub(r'\\d+', '', df[i][rand_index].iloc[0])\n",
    "            if (bool(re.search(r'\\d+', df[i][rand_index].iloc[0])) == True) and (len(x_str)<(len(df[i][rand_index].iloc[0])-len(x_str))):\n",
    "                df[i] = pd.to_numeric(df[i].str.replace(',',''),errors='coerce')\n",
    "                print(f'column \"{i}\" has been converted to Numeric')\n",
    "                continue\n",
    "            else:\n",
    "                continue\n",
    "    else:\n",
    "        continue"
   ]
  },
  {
   "cell_type": "code",
   "execution_count": 42,
   "id": "8f3846bb-2c0f-4992-860b-607f3d737d92",
   "metadata": {},
   "outputs": [
    {
     "name": "stdout",
     "output_type": "stream",
     "text": [
      "<class 'pandas.core.frame.DataFrame'>\n",
      "RangeIndex: 2341 entries, 0 to 2340\n",
      "Data columns (total 13 columns):\n",
      " #   Column                       Non-Null Count  Dtype  \n",
      "---  ------                       --------------  -----  \n",
      " 0   University Rank              2341 non-null   object \n",
      " 1   Name of University           2233 non-null   object \n",
      " 2   Location                     2047 non-null   object \n",
      " 3   No of student                2209 non-null   float64\n",
      " 4   No of student per staff      2208 non-null   float64\n",
      " 5   International Student        2209 non-null   object \n",
      " 6   Female:Male Ratio            2128 non-null   object \n",
      " 7   OverAll Score                1799 non-null   object \n",
      " 8   Teaching Score               1799 non-null   float64\n",
      " 9   Research Score               1799 non-null   float64\n",
      " 10  Citations Score              1799 non-null   float64\n",
      " 11  Industry Income Score        1799 non-null   float64\n",
      " 12  International Outlook Score  1799 non-null   float64\n",
      "dtypes: float64(7), object(6)\n",
      "memory usage: 237.9+ KB\n"
     ]
    }
   ],
   "source": [
    "# len(re.sub(r'\\d+', '',df['No of student'][rand_index].iloc[0]))\n",
    "# x_str=re.sub(r'\\d+', '', df['No of student'][rand_index].iloc[0])\n",
    "# if (bool(re.search(r'\\d+', df['No of student'][rand_index].iloc[0])) == True) and (len(x_str)<(len(df['No of student'][rand_index].iloc[0])-len(x_str))):\n",
    "#     print('yes')\\\n",
    "df.info()"
   ]
  },
  {
   "cell_type": "code",
   "execution_count": 339,
   "id": "6296aaf9-3598-471e-932a-80ea411166fe",
   "metadata": {},
   "outputs": [],
   "source": [
    "class Analyze_csv():\n",
    "    def __init__(self,df):\n",
    "        self.df = df\n",
    "\n",
    "    def no_of_rows(self):\n",
    "        return len(self.df)\n",
    "        \n",
    "    def no_of_null_total(self):\n",
    "        x=''\n",
    "        for i,j in zip(self.df.columns,self.df.isna().sum()):\n",
    "            x = x+f'\"{i}\" column has {j} null values'+'\\n'\n",
    "        return x\n",
    "    def col_details(self):\n",
    "        total_cols=len(self.df.columns)\n",
    "        num_cols='The numerical columns in this dataset are: \\n'\n",
    "        cat_cols='The Categorical columns in this dataset are: \\n'\n",
    "\n",
    "        for i in df.select_dtypes('number').columns:\n",
    "            num_cols = num_cols+i+'\\n'\n",
    "        for j in df.select_dtypes('object').columns:\n",
    "            cat_cols = cat_cols+j+'\\n'\n",
    "        return total_cols, num_cols, cat_cols\n",
    "\n",
    "    def num_col_details(self):\n",
    "        a='Mean(average) value for the Numerical columns are as below:\\n'\n",
    "        b='Min value for the Numerical columns are as below:\\n'\n",
    "        c='Max value for the Numerical columns are as below:\\n'\n",
    "        d='Median value for the numerical columns are as below:\\n'\n",
    "        e='standard deviation of the numerical columns as below:\\n'\n",
    "        \n",
    "        for i in df.select_dtypes('number').columns:\n",
    "            a=a+f'{i} : {str(round(self.df[i].mean(),2))}'+'\\n'\n",
    "            b=b+f'{i} : {str(round(self.df[i].min(),2))}'+'\\n'\n",
    "            c=c+f'{i} : {str(round(self.df[i].max(),2))}'+'\\n'\n",
    "            d=d+f'{i} : {str(round(self.df[i].median(),2))}'+'\\n'\n",
    "            e=e+f'{i} : {str(round(self.df[i].std(),2))}'+'\\n'\n",
    "            \n",
    "        return a,b,c,d,e\n",
    "    def cat_col_details(self):\n",
    "        a='Mode for the Categorical columns are as below:\\n'\n",
    "        b='Top 5 repeated values for Categorical columns are as below:\\n'\n",
    "        \n",
    "        for i in self.df.select_dtypes('object').columns:\n",
    "            if len(self.df[i].mode()) > 1:\n",
    "                a=a+f'{i} : this column has more than 1 mode'+'\\n'\n",
    "            else:\n",
    "                a=a+f'{i} : {str(self.df[i].mode()[0])}'+'\\n'\n",
    "        for i in self.df.select_dtypes('object').columns:\n",
    "            if len(self.df[i].mode()) == 1:\n",
    "                b=b+f'{i} : {dict(self.df[i].value_counts()[0:5])}'+'\\n'\n",
    "            else:\n",
    "                b=b+f'{i} : This column has more than 1 mode'+'\\n'\n",
    "                 \n",
    "        return a,b\n",
    "        \n",
    "    def outliers(self):\n",
    "        Q1 = self.df.select_dtypes('number').quantile(0.25)\n",
    "        Q3 = self.df.select_dtypes('number').quantile(0.75)\n",
    "        IQR = Q3 - Q1\n",
    "        x='Outliers for each Numerical column are as below:\\n'\n",
    "\n",
    "        for i in df.select_dtypes('number').columns:\n",
    "\n",
    "            x=x+f'{i} : {str(len(df[~((self.df[i]>(Q1[i]-1.5*IQR[i])) & (self.df[i]<(Q3[i]+1.5*IQR[i])))][i])-self.df[i].isna().sum())}'+'\\n'\n",
    "            \n",
    "        return x\n",
    "    \n",
    "    def distribution_type(self):\n",
    "        a='Skewness for each Numerical column are as below:\\n'\n",
    "        b='Kurtosis for each Numerical column are as below:\\n'\n",
    "        c='Shapiro-wilk test for each Numerical column are as below:\\n'\n",
    "        for i in self.df.select_dtypes('number').columns:\n",
    "            a=a+f'{i} : {self.df[~self.df[i].isna()][i].skew()}\\n'\n",
    "            b=b+f'{i} : {self.df[~self.df[i].isna()][i].kurtosis()}\\n'\n",
    "            \n",
    "            shapiro_test = stats.shapiro(self.df[~self.df[i].isna()][i])\n",
    "            if shapiro_test[1] > 0.05:\n",
    "                c = c+f'{i} : This column appear to be normally distributed\\n'\n",
    "            else:\n",
    "                c = c+f'{i} : This column does not appear to be normally distributed\\n'\n",
    "\n",
    "        return a,b,c\n",
    "\n",
    "    def correlation(self):\n",
    "        a = 'The correlation coefficient between the numerical columns are given below:\\n'\n",
    "        for i in self.df.select_dtypes('number').columns:\n",
    "            for j in self.df.select_dtypes('number').columns:\n",
    "                corr=self.df[[i,j]].corr().iloc[0,1]\n",
    "                if i!=j and (corr>0.75 or corr<-0.75):\n",
    "                    a=a+f'{i} <-> {j} : {corr}\\n'\n",
    "                else:\n",
    "                    continue\n",
    "        return a     "
   ]
  },
  {
   "cell_type": "code",
   "execution_count": 340,
   "id": "0ec38376-516d-4e2c-80a0-3c4ba302844f",
   "metadata": {},
   "outputs": [],
   "source": [
    "a1=Analyze_csv(df)"
   ]
  },
  {
   "cell_type": "code",
   "execution_count": 351,
   "id": "3c76d36f-1069-4930-8c1b-a4b41fe54538",
   "metadata": {},
   "outputs": [],
   "source": [
    "prompt = f'''\n",
    "[INST]\n",
    "Below are the details of a dataset. it covers details like null value count, \n",
    "total rows, data type of the columns,type of distribution, type of relation \n",
    "among the columns. your task is to answer the queries on the dataset by \n",
    "referring the below details, answers the questions accurately. If user asks\n",
    "about the range of certain column, refer to maximum and minimum values of the \n",
    "column and answer it.each detail is seperated by an empty line.\n",
    "--------------------------------------------------------------\n",
    "Details:\n",
    "Total number of records in the dataset are {a1.no_of_rows()}\n",
    "\n",
    "Null values for each column are given below\\n{a1.no_of_null_total()}\n",
    "\n",
    "Total columns in the dataset are : {a1.col_details()[0]}\n",
    "\n",
    "{a1.col_details()[1]}\n",
    "\n",
    "{a1.col_details()[2]}\n",
    "\n",
    "{a1.num_col_details()[0]}\n",
    "\n",
    "{a1.num_col_details()[1]}\n",
    "\n",
    "{a1.num_col_details()[2]}\n",
    "\n",
    "{a1.num_col_details()[3]}\n",
    "\n",
    "{a1.num_col_details()[4]}\n",
    "\n",
    "{a1.cat_col_details()[0]}\n",
    "\n",
    "{a1.cat_col_details()[1]}\n",
    "\n",
    "{a1.outliers()}\n",
    "\n",
    "{a1.distribution_type()[0]}\n",
    "\n",
    "{a1.distribution_type()[1]}\n",
    "\n",
    "{a1.distribution_type()[2]}\n",
    "\n",
    "{a1.correlation()}\n",
    "\n",
    "--------------------------------------------------------------\n",
    "Question: {query}\n",
    "[/INST]\n",
    "'''"
   ]
  },
  {
   "cell_type": "code",
   "execution_count": 352,
   "id": "2ebaabce-344a-40df-833c-19d3db5d2200",
   "metadata": {},
   "outputs": [
    {
     "name": "stdout",
     "output_type": "stream",
     "text": [
      "\n",
      "[INST]\n",
      "Below are the details of a dataset. it covers details like null value count, \n",
      "total rows, data type of the columns,type of distribution, type of relation \n",
      "among the columns. your task is to answer the queries on the dataset by \n",
      "referring the below details, answers the questions accurately. If user asks\n",
      "about the range of certain column, refer to maximum and minimum values of the \n",
      "column and answer it.each detail is seperated by an empty line.\n",
      "\n",
      "Details:\n",
      "Total number of records in the dataset are 2341\n",
      "\n",
      "Null values for each column are given below\n",
      "\"University Rank\" column has 0 null values\n",
      "\"Name of University\" column has 108 null values\n",
      "\"Location\" column has 294 null values\n",
      "\"No of student\" column has 132 null values\n",
      "\"No of student per staff\" column has 133 null values\n",
      "\"International Student\" column has 132 null values\n",
      "\"Female:Male Ratio\" column has 213 null values\n",
      "\"OverAll Score\" column has 542 null values\n",
      "\"Teaching Score\" column has 542 null values\n",
      "\"Research Score\" column has 542 null values\n",
      "\"Citations Score\" column has 542 null values\n",
      "\"Industry Income Score\" column has 542 null values\n",
      "\"International Outlook Score\" column has 542 null values\n",
      "\n",
      "\n",
      "Total columns in the dataset are : 13\n",
      "\n",
      "The numerical columns in this dataset are: \n",
      "No of student\n",
      "No of student per staff\n",
      "Teaching Score\n",
      "Research Score\n",
      "Citations Score\n",
      "Industry Income Score\n",
      "International Outlook Score\n",
      "\n",
      "\n",
      "The Categorical columns in this dataset are: \n",
      "University Rank\n",
      "Name of University\n",
      "Location\n",
      "International Student\n",
      "Female:Male Ratio\n",
      "OverAll Score\n",
      "\n",
      "\n",
      "Mean(average) value for the Numerical columns are as below:\n",
      "No of student : 19617.42\n",
      "No of student per staff : 19.0\n",
      "Teaching Score : 27.02\n",
      "Research Score : 23.02\n",
      "Citations Score : 48.5\n",
      "Industry Income Score : 47.1\n",
      "International Outlook Score : 46.88\n",
      "\n",
      "\n",
      "Min value for the Numerical columns are as below:\n",
      "No of student : 115.0\n",
      "No of student per staff : 0.4\n",
      "Teaching Score : 11.6\n",
      "Research Score : 7.4\n",
      "Citations Score : 0.8\n",
      "Industry Income Score : 36.9\n",
      "International Outlook Score : 14.1\n",
      "\n",
      "\n",
      "Max value for the Numerical columns are as below:\n",
      "No of student : 460632.0\n",
      "No of student per staff : 232.2\n",
      "Teaching Score : 94.8\n",
      "Research Score : 99.7\n",
      "Citations Score : 100.0\n",
      "Industry Income Score : 100.0\n",
      "International Outlook Score : 99.7\n",
      "\n",
      "\n",
      "Median value for the numerical columns are as below:\n",
      "No of student : 14292.0\n",
      "No of student per staff : 16.6\n",
      "Teaching Score : 22.7\n",
      "Research Score : 17.0\n",
      "Citations Score : 47.2\n",
      "Industry Income Score : 40.5\n",
      "International Outlook Score : 42.1\n",
      "\n",
      "\n",
      "standard deviation of the numerical columns as below:\n",
      "No of student : 25191.73\n",
      "No of student per staff : 12.13\n",
      "Teaching Score : 13.28\n",
      "Research Score : 16.76\n",
      "Citations Score : 27.97\n",
      "Industry Income Score : 15.09\n",
      "International Outlook Score : 22.58\n",
      "\n",
      "\n",
      "Mode for the Categorical columns are as below:\n",
      "University Rank : Reporter\n",
      "Name of University : this column has more than 1 mode\n",
      "Location : United States\n",
      "International Student : 0%\n",
      "Female:Male Ratio : 58 : 42\n",
      "OverAll Score : 18.4–24.3\n",
      "\n",
      "\n",
      "Top 5 repeated values for Categorical columns are as below:\n",
      "University Rank : {'Reporter': 512, '1201–1500': 285, '1501+': 253, '1001–1200': 200, '801–1000': 193}\n",
      "Name of University : This column has more than 1 mode\n",
      "Location : {'United States': 173, 'Japan': 150, 'United Kingdom': 149, 'India': 91, 'China': 82}\n",
      "International Student : {'0%': 336, '1%': 289, '2%': 196, '3%': 148, '4%': 115}\n",
      "Female:Male Ratio : {'58 : 42': 95, '55 : 45': 94, '54 : 46': 89, '57 : 43': 88, '56 : 44': 84}\n",
      "OverAll Score : {'18.4–24.3': 305, '10.4–18.3': 290, '24.4–29.7': 203, '34.0–39.2': 201, '29.8–33.9': 199}\n",
      "\n",
      "\n",
      "Outliers for each Numerical column are as below:\n",
      "No of student : 82\n",
      "No of student per staff : 121\n",
      "Teaching Score : 94\n",
      "Research Score : 108\n",
      "Citations Score : 0\n",
      "Industry Income Score : 239\n",
      "International Outlook Score : 0\n",
      "\n",
      "\n",
      "Skewness for each Numerical column are as below:\n",
      "No of student : 8.523023311656651\n",
      "No of student per staff : 5.476482792715064\n",
      "Teaching Score : 2.0561277033210468\n",
      "Research Score : 1.9485876202014587\n",
      "Citations Score : 0.15154512755731275\n",
      "Industry Income Score : 1.9969356212749332\n",
      "International Outlook Score : 0.6706668683457329\n",
      "\n",
      "\n",
      "Kurtosis for each Numerical column are as below:\n",
      "No of student : 122.18229856878463\n",
      "No of student per staff : 65.13385755865107\n",
      "Teaching Score : 5.357828541788123\n",
      "Research Score : 4.2108965906069\n",
      "Citations Score : -1.1945037516773056\n",
      "Industry Income Score : 3.1465863894973194\n",
      "International Outlook Score : -0.6245623320186238\n",
      "\n",
      "\n",
      "Shapiro-wilk test for each Numerical column are as below:\n",
      "No of student : This column does not appear to be normally distributed\n",
      "No of student per staff : This column does not appear to be normally distributed\n",
      "Teaching Score : This column does not appear to be normally distributed\n",
      "Research Score : This column does not appear to be normally distributed\n",
      "Citations Score : This column does not appear to be normally distributed\n",
      "Industry Income Score : This column does not appear to be normally distributed\n",
      "International Outlook Score : This column does not appear to be normally distributed\n",
      "\n",
      "\n",
      "The correlation coefficient between the numerical columns are given below:\n",
      "Teaching Score <-> Research Score : 0.8821808920533966\n",
      "Research Score <-> Teaching Score : 0.8821808920533966\n",
      "\n",
      "\n",
      "\n"
     ]
    }
   ],
   "source": [
    "print(prompt)"
   ]
  },
  {
   "cell_type": "code",
   "execution_count": 147,
   "id": "ffad59b5-d030-41a0-9a94-c01e5b4bcd0b",
   "metadata": {},
   "outputs": [
    {
     "data": {
      "text/plain": [
       "'United States'"
      ]
     },
     "execution_count": 147,
     "metadata": {},
     "output_type": "execute_result"
    }
   ],
   "source": [
    "# df['Location'].value_counts().head().index\n",
    "df['Location'].mode()[0]\n"
   ]
  },
  {
   "cell_type": "code",
   "execution_count": 255,
   "id": "949278ef-7b4c-4440-9086-5d497d3d39a9",
   "metadata": {},
   "outputs": [],
   "source": [
    "Q1 = df.select_dtypes('number').quantile(0.25)\n",
    "Q3 = df.select_dtypes('number').quantile(0.75)\n",
    "IQR = Q3 - Q1"
   ]
  },
  {
   "cell_type": "code",
   "execution_count": 262,
   "id": "40bb01b4-45bd-47fb-a3c1-ae4c80f09be3",
   "metadata": {},
   "outputs": [
    {
     "data": {
      "text/plain": [
       "82"
      ]
     },
     "execution_count": 262,
     "metadata": {},
     "output_type": "execute_result"
    }
   ],
   "source": [
    "len(df[~((df['No of student']>(Q1['No of student']-1.5*IQR['No of student'])) & (df['No of student']<(Q3['No of student']+1.5*IQR['No of student'])))]['No of student'])-df['No of student'].isna().sum()"
   ]
  },
  {
   "cell_type": "code",
   "execution_count": 173,
   "id": "cf2fb46f-ef31-4c76-b986-b3c97723ea7f",
   "metadata": {},
   "outputs": [
    {
     "name": "stdout",
     "output_type": "stream",
     "text": [
      "<class 'pandas.core.frame.DataFrame'>\n",
      "RangeIndex: 2341 entries, 0 to 2340\n",
      "Data columns (total 13 columns):\n",
      " #   Column                       Non-Null Count  Dtype  \n",
      "---  ------                       --------------  -----  \n",
      " 0   University Rank              2341 non-null   object \n",
      " 1   Name of University           2233 non-null   object \n",
      " 2   Location                     2047 non-null   object \n",
      " 3   No of student                2209 non-null   object \n",
      " 4   No of student per staff      2208 non-null   float64\n",
      " 5   International Student        2209 non-null   object \n",
      " 6   Female:Male Ratio            2128 non-null   object \n",
      " 7   OverAll Score                1799 non-null   object \n",
      " 8   Teaching Score               1799 non-null   float64\n",
      " 9   Research Score               1799 non-null   float64\n",
      " 10  Citations Score              1799 non-null   float64\n",
      " 11  Industry Income Score        1799 non-null   float64\n",
      " 12  International Outlook Score  1799 non-null   float64\n",
      "dtypes: float64(6), object(7)\n",
      "memory usage: 237.9+ KB\n"
     ]
    }
   ],
   "source": [
    "df.info()"
   ]
  },
  {
   "cell_type": "code",
   "execution_count": 172,
   "id": "6d943898-8303-47ba-8ff5-576c241acaf5",
   "metadata": {},
   "outputs": [
    {
     "name": "stdout",
     "output_type": "stream",
     "text": [
      "True\n",
      "False\n"
     ]
    }
   ],
   "source": [
    "import re\n",
    "\n",
    "def contains_number(string):\n",
    "    # Search for any digit in the string\n",
    "    return bool(re.search(r'\\d', string))\n",
    "\n",
    "# Example usage\n",
    "test_string = \"Hello, this is a test string with number 123,456.\"\n",
    "print(contains_number(test_string))  # Output: True\n",
    "\n",
    "test_string = \"No numbers here!\"\n",
    "print(contains_number(test_string))  # Output: False\n"
   ]
  },
  {
   "cell_type": "code",
   "execution_count": 269,
   "id": "799808de-e21a-4e98-b5dd-f6fc82d03604",
   "metadata": {},
   "outputs": [
    {
     "data": {
      "text/plain": [
       "{'United States': 173, 'Japan': 150, 'United Kingdom': 149, 'India': 91}"
      ]
     },
     "execution_count": 269,
     "metadata": {},
     "output_type": "execute_result"
    }
   ],
   "source": [
    "dict(df['Location'].value_counts()[0:4])"
   ]
  },
  {
   "cell_type": "code",
   "execution_count": 182,
   "id": "d6441376-f5a1-4ec2-902e-9bbdf2207b2e",
   "metadata": {},
   "outputs": [
    {
     "data": {
      "text/plain": [
       "859"
      ]
     },
     "execution_count": 182,
     "metadata": {},
     "output_type": "execute_result"
    }
   ],
   "source": [
    "np.random.randint(0,len(df))"
   ]
  },
  {
   "cell_type": "code",
   "execution_count": 225,
   "id": "7d667971-f78f-4abf-bd94-557d3656ff1f",
   "metadata": {},
   "outputs": [
    {
     "ename": "TypeError",
     "evalue": "expected string or bytes-like object, got 'Series'",
     "output_type": "error",
     "traceback": [
      "\u001b[1;31m---------------------------------------------------------------------------\u001b[0m",
      "\u001b[1;31mTypeError\u001b[0m                                 Traceback (most recent call last)",
      "Cell \u001b[1;32mIn[225], line 1\u001b[0m\n\u001b[1;32m----> 1\u001b[0m \u001b[38;5;28mbool\u001b[39m(re\u001b[38;5;241m.\u001b[39msearch(\u001b[38;5;124mr\u001b[39m\u001b[38;5;124m'\u001b[39m\u001b[38;5;124m^(?=.*\u001b[39m\u001b[38;5;124m\\\u001b[39m\u001b[38;5;124md)(?=.*,)[^a-zA-Z]*$\u001b[39m\u001b[38;5;124m'\u001b[39m,df[\u001b[38;5;124m'\u001b[39m\u001b[38;5;124mNo of student\u001b[39m\u001b[38;5;124m'\u001b[39m][np\u001b[38;5;241m.\u001b[39mrandom\u001b[38;5;241m.\u001b[39mchoice(df[\u001b[38;5;124m'\u001b[39m\u001b[38;5;124mNo of student\u001b[39m\u001b[38;5;124m'\u001b[39m][\u001b[38;5;241m~\u001b[39mdf[\u001b[38;5;124m'\u001b[39m\u001b[38;5;124mNo of student\u001b[39m\u001b[38;5;124m'\u001b[39m]\u001b[38;5;241m.\u001b[39misna()]\u001b[38;5;241m.\u001b[39mindex,\u001b[38;5;241m1\u001b[39m)]))\n",
      "File \u001b[1;32mD:\\Praxis\\Practice\\Anaconda\\Lib\\re\\__init__.py:176\u001b[0m, in \u001b[0;36msearch\u001b[1;34m(pattern, string, flags)\u001b[0m\n\u001b[0;32m    173\u001b[0m \u001b[38;5;28;01mdef\u001b[39;00m \u001b[38;5;21msearch\u001b[39m(pattern, string, flags\u001b[38;5;241m=\u001b[39m\u001b[38;5;241m0\u001b[39m):\n\u001b[0;32m    174\u001b[0m \u001b[38;5;250m    \u001b[39m\u001b[38;5;124;03m\"\"\"Scan through string looking for a match to the pattern, returning\u001b[39;00m\n\u001b[0;32m    175\u001b[0m \u001b[38;5;124;03m    a Match object, or None if no match was found.\"\"\"\u001b[39;00m\n\u001b[1;32m--> 176\u001b[0m     \u001b[38;5;28;01mreturn\u001b[39;00m _compile(pattern, flags)\u001b[38;5;241m.\u001b[39msearch(string)\n",
      "\u001b[1;31mTypeError\u001b[0m: expected string or bytes-like object, got 'Series'"
     ]
    }
   ],
   "source": [
    "bool(re.search(r'^(?=.*\\d)(?=.*,)[^a-zA-Z]*$',df['No of student'][np.random.choice(df['No of student'][~df['No of student'].isna()].index,1)]))\n"
   ]
  },
  {
   "cell_type": "code",
   "execution_count": 230,
   "id": "11c83d65-af29-4cea-aa22-39f3d433ce8d",
   "metadata": {},
   "outputs": [
    {
     "data": {
      "text/plain": [
       "'10,540'"
      ]
     },
     "execution_count": 230,
     "metadata": {},
     "output_type": "execute_result"
    }
   ],
   "source": [
    "df['No of student'][np.random.choice(df['No of student'][~df['No of student'].isna()].index,1)].iloc[0]"
   ]
  },
  {
   "cell_type": "code",
   "execution_count": 289,
   "id": "33f1a7a6-4dbf-4e7c-926f-55814fda274b",
   "metadata": {},
   "outputs": [
    {
     "name": "stdout",
     "output_type": "stream",
     "text": [
      "Test statistic: 0.5144734382629395, p-value: 0.0\n"
     ]
    }
   ],
   "source": [
    "\n",
    "\n",
    "# Assuming 'data' is a one-dimensional numpy array or a pandas series\n",
    "shapiro_test = stats.shapiro(df[~df['No of student'].isna()]['No of student'])\n",
    "\n",
    "print(f\"Test statistic: {shapiro_test[0]}, p-value: {shapiro_test[1]}\")\n"
   ]
  },
  {
   "cell_type": "code",
   "execution_count": 300,
   "id": "bf3edfaf-f3dd-40a7-9629-539a0dcc362d",
   "metadata": {},
   "outputs": [],
   "source": [
    "xx=df.select_dtypes('number').corr()"
   ]
  },
  {
   "cell_type": "code",
   "execution_count": 313,
   "id": "d99f1dff-dedb-49ff-bf29-7c6d0483c9bc",
   "metadata": {},
   "outputs": [],
   "source": [
    "for i in range(0,len(xx.columns)):\n",
    "    xx.iloc[i,i]=0\n",
    "    "
   ]
  },
  {
   "cell_type": "code",
   "execution_count": 331,
   "id": "fd8ea758-e173-4a3e-afbd-5a917816ff73",
   "metadata": {},
   "outputs": [
    {
     "name": "stderr",
     "output_type": "stream",
     "text": [
      "C:\\Users\\naren\\AppData\\Local\\Temp\\ipykernel_28928\\1421972568.py:1: FutureWarning: The behavior of DataFrame.idxmax with all-NA values, or any-NA and skipna=False, is deprecated. In a future version this will raise ValueError\n",
      "  xx[(xx>0.75) | (xx<-0.75)].idxmax(skipna=True)\n"
     ]
    },
    {
     "data": {
      "text/plain": [
       "No of student                             NaN\n",
       "No of student per staff                   NaN\n",
       "Teaching Score                 Research Score\n",
       "Research Score                 Teaching Score\n",
       "Citations Score                           NaN\n",
       "Industry Income Score                     NaN\n",
       "International Outlook Score               NaN\n",
       "dtype: object"
      ]
     },
     "execution_count": 331,
     "metadata": {},
     "output_type": "execute_result"
    }
   ],
   "source": [
    "xx[(xx>0.75) | (xx<-0.75)].idxmax(skipna=True)"
   ]
  },
  {
   "cell_type": "code",
   "execution_count": 338,
   "id": "c4edab57-6b54-4957-a46a-a044ed73560c",
   "metadata": {},
   "outputs": [
    {
     "data": {
      "text/html": [
       "<div>\n",
       "<style scoped>\n",
       "    .dataframe tbody tr th:only-of-type {\n",
       "        vertical-align: middle;\n",
       "    }\n",
       "\n",
       "    .dataframe tbody tr th {\n",
       "        vertical-align: top;\n",
       "    }\n",
       "\n",
       "    .dataframe thead th {\n",
       "        text-align: right;\n",
       "    }\n",
       "</style>\n",
       "<table border=\"1\" class=\"dataframe\">\n",
       "  <thead>\n",
       "    <tr style=\"text-align: right;\">\n",
       "      <th></th>\n",
       "      <th>No of student</th>\n",
       "      <th>No of student per staff</th>\n",
       "      <th>Teaching Score</th>\n",
       "      <th>Research Score</th>\n",
       "      <th>Citations Score</th>\n",
       "      <th>Industry Income Score</th>\n",
       "      <th>International Outlook Score</th>\n",
       "    </tr>\n",
       "  </thead>\n",
       "  <tbody>\n",
       "    <tr>\n",
       "      <th>No of student</th>\n",
       "      <td>1.000000</td>\n",
       "      <td>0.315527</td>\n",
       "      <td>-0.001826</td>\n",
       "      <td>0.022474</td>\n",
       "      <td>0.026195</td>\n",
       "      <td>-0.016474</td>\n",
       "      <td>-0.034050</td>\n",
       "    </tr>\n",
       "    <tr>\n",
       "      <th>No of student per staff</th>\n",
       "      <td>0.315527</td>\n",
       "      <td>1.000000</td>\n",
       "      <td>-0.130569</td>\n",
       "      <td>0.006686</td>\n",
       "      <td>-0.005684</td>\n",
       "      <td>-0.002588</td>\n",
       "      <td>0.029470</td>\n",
       "    </tr>\n",
       "    <tr>\n",
       "      <th>Teaching Score</th>\n",
       "      <td>-0.001826</td>\n",
       "      <td>-0.130569</td>\n",
       "      <td>1.000000</td>\n",
       "      <td>0.882181</td>\n",
       "      <td>0.451169</td>\n",
       "      <td>0.492579</td>\n",
       "      <td>0.385006</td>\n",
       "    </tr>\n",
       "    <tr>\n",
       "      <th>Research Score</th>\n",
       "      <td>0.022474</td>\n",
       "      <td>0.006686</td>\n",
       "      <td>0.882181</td>\n",
       "      <td>1.000000</td>\n",
       "      <td>0.514013</td>\n",
       "      <td>0.583051</td>\n",
       "      <td>0.537993</td>\n",
       "    </tr>\n",
       "    <tr>\n",
       "      <th>Citations Score</th>\n",
       "      <td>0.026195</td>\n",
       "      <td>-0.005684</td>\n",
       "      <td>0.451169</td>\n",
       "      <td>0.514013</td>\n",
       "      <td>1.000000</td>\n",
       "      <td>0.182949</td>\n",
       "      <td>0.536379</td>\n",
       "    </tr>\n",
       "    <tr>\n",
       "      <th>Industry Income Score</th>\n",
       "      <td>-0.016474</td>\n",
       "      <td>-0.002588</td>\n",
       "      <td>0.492579</td>\n",
       "      <td>0.583051</td>\n",
       "      <td>0.182949</td>\n",
       "      <td>1.000000</td>\n",
       "      <td>0.218060</td>\n",
       "    </tr>\n",
       "    <tr>\n",
       "      <th>International Outlook Score</th>\n",
       "      <td>-0.034050</td>\n",
       "      <td>0.029470</td>\n",
       "      <td>0.385006</td>\n",
       "      <td>0.537993</td>\n",
       "      <td>0.536379</td>\n",
       "      <td>0.218060</td>\n",
       "      <td>1.000000</td>\n",
       "    </tr>\n",
       "  </tbody>\n",
       "</table>\n",
       "</div>"
      ],
      "text/plain": [
       "                             No of student  No of student per staff  \\\n",
       "No of student                     1.000000                 0.315527   \n",
       "No of student per staff           0.315527                 1.000000   \n",
       "Teaching Score                   -0.001826                -0.130569   \n",
       "Research Score                    0.022474                 0.006686   \n",
       "Citations Score                   0.026195                -0.005684   \n",
       "Industry Income Score            -0.016474                -0.002588   \n",
       "International Outlook Score      -0.034050                 0.029470   \n",
       "\n",
       "                             Teaching Score  Research Score  Citations Score  \\\n",
       "No of student                     -0.001826        0.022474         0.026195   \n",
       "No of student per staff           -0.130569        0.006686        -0.005684   \n",
       "Teaching Score                     1.000000        0.882181         0.451169   \n",
       "Research Score                     0.882181        1.000000         0.514013   \n",
       "Citations Score                    0.451169        0.514013         1.000000   \n",
       "Industry Income Score              0.492579        0.583051         0.182949   \n",
       "International Outlook Score        0.385006        0.537993         0.536379   \n",
       "\n",
       "                             Industry Income Score  \\\n",
       "No of student                            -0.016474   \n",
       "No of student per staff                  -0.002588   \n",
       "Teaching Score                            0.492579   \n",
       "Research Score                            0.583051   \n",
       "Citations Score                           0.182949   \n",
       "Industry Income Score                     1.000000   \n",
       "International Outlook Score               0.218060   \n",
       "\n",
       "                             International Outlook Score  \n",
       "No of student                                  -0.034050  \n",
       "No of student per staff                         0.029470  \n",
       "Teaching Score                                  0.385006  \n",
       "Research Score                                  0.537993  \n",
       "Citations Score                                 0.536379  \n",
       "Industry Income Score                           0.218060  \n",
       "International Outlook Score                     1.000000  "
      ]
     },
     "execution_count": 338,
     "metadata": {},
     "output_type": "execute_result"
    }
   ],
   "source": [
    "df[df.select_dtypes('number').columns].corr()"
   ]
  },
  {
   "cell_type": "code",
   "execution_count": 354,
   "id": "b35b32ca-17f0-4afc-b202-b84f4c91ee0e",
   "metadata": {},
   "outputs": [
    {
     "ename": "NameError",
     "evalue": "name 'Choice' is not defined",
     "output_type": "error",
     "traceback": [
      "\u001b[1;31m---------------------------------------------------------------------------\u001b[0m",
      "\u001b[1;31mNameError\u001b[0m                                 Traceback (most recent call last)",
      "Cell \u001b[1;32mIn[354], line 1\u001b[0m\n\u001b[1;32m----> 1\u001b[0m response\u001b[38;5;241m=\u001b[39m[(\u001b[38;5;124m'\u001b[39m\u001b[38;5;124mid\u001b[39m\u001b[38;5;124m'\u001b[39m, \u001b[38;5;124m'\u001b[39m\u001b[38;5;124mchatcmpl-9Zdk8Ocj0MwO73oufFUO6b4ceBFAc\u001b[39m\u001b[38;5;124m'\u001b[39m), (\u001b[38;5;124m'\u001b[39m\u001b[38;5;124mchoices\u001b[39m\u001b[38;5;124m'\u001b[39m, [Choice(finish_reason\u001b[38;5;241m=\u001b[39m\u001b[38;5;124m'\u001b[39m\u001b[38;5;124mstop\u001b[39m\u001b[38;5;124m'\u001b[39m, index\u001b[38;5;241m=\u001b[39m\u001b[38;5;241m0\u001b[39m, logprobs\u001b[38;5;241m=\u001b[39m\u001b[38;5;28;01mNone\u001b[39;00m, message\u001b[38;5;241m=\u001b[39mChatCompletionMessage(content\u001b[38;5;241m=\u001b[39m\u001b[38;5;124m'\u001b[39m\u001b[38;5;124mThe columns in the dataset are as follows:\u001b[39m\u001b[38;5;130;01m\\n\u001b[39;00m\u001b[38;5;130;01m\\n\u001b[39;00m\u001b[38;5;124m1. University Rank\u001b[39m\u001b[38;5;130;01m\\n\u001b[39;00m\u001b[38;5;124m2. Name of University\u001b[39m\u001b[38;5;130;01m\\n\u001b[39;00m\u001b[38;5;124m3. Location\u001b[39m\u001b[38;5;130;01m\\n\u001b[39;00m\u001b[38;5;124m4. No of student\u001b[39m\u001b[38;5;130;01m\\n\u001b[39;00m\u001b[38;5;124m5. No of student per staff\u001b[39m\u001b[38;5;130;01m\\n\u001b[39;00m\u001b[38;5;124m6. International Student\u001b[39m\u001b[38;5;130;01m\\n\u001b[39;00m\u001b[38;5;124m7. Female Ratio\u001b[39m\u001b[38;5;130;01m\\n\u001b[39;00m\u001b[38;5;124m8. OverAll Score\u001b[39m\u001b[38;5;130;01m\\n\u001b[39;00m\u001b[38;5;124m9. Teaching Score\u001b[39m\u001b[38;5;130;01m\\n\u001b[39;00m\u001b[38;5;124m10. Research Score\u001b[39m\u001b[38;5;130;01m\\n\u001b[39;00m\u001b[38;5;124m11. Citations Score\u001b[39m\u001b[38;5;130;01m\\n\u001b[39;00m\u001b[38;5;124m12. Industry Income Score\u001b[39m\u001b[38;5;130;01m\\n\u001b[39;00m\u001b[38;5;124m13. International Outlook Score\u001b[39m\u001b[38;5;130;01m\\n\u001b[39;00m\u001b[38;5;130;01m\\n\u001b[39;00m\u001b[38;5;124mThese columns contain information about the universities, including various numerical and categorical data points.\u001b[39m\u001b[38;5;124m'\u001b[39m, role\u001b[38;5;241m=\u001b[39m\u001b[38;5;124m'\u001b[39m\u001b[38;5;124massistant\u001b[39m\u001b[38;5;124m'\u001b[39m, function_call\u001b[38;5;241m=\u001b[39m\u001b[38;5;28;01mNone\u001b[39;00m, tool_calls\u001b[38;5;241m=\u001b[39m\u001b[38;5;28;01mNone\u001b[39;00m))]), (\u001b[38;5;124m'\u001b[39m\u001b[38;5;124mcreated\u001b[39m\u001b[38;5;124m'\u001b[39m, \u001b[38;5;241m1718281280\u001b[39m), (\u001b[38;5;124m'\u001b[39m\u001b[38;5;124mmodel\u001b[39m\u001b[38;5;124m'\u001b[39m, \u001b[38;5;124m'\u001b[39m\u001b[38;5;124mgpt-3.5-turbo-0125\u001b[39m\u001b[38;5;124m'\u001b[39m), (\u001b[38;5;124m'\u001b[39m\u001b[38;5;124mobject\u001b[39m\u001b[38;5;124m'\u001b[39m, \u001b[38;5;124m'\u001b[39m\u001b[38;5;124mchat.completion\u001b[39m\u001b[38;5;124m'\u001b[39m), (\u001b[38;5;124m'\u001b[39m\u001b[38;5;124msystem_fingerprint\u001b[39m\u001b[38;5;124m'\u001b[39m, \u001b[38;5;28;01mNone\u001b[39;00m), (\u001b[38;5;124m'\u001b[39m\u001b[38;5;124musage\u001b[39m\u001b[38;5;124m'\u001b[39m, CompletionUsage(completion_tokens\u001b[38;5;241m=\u001b[39m\u001b[38;5;241m100\u001b[39m, prompt_tokens\u001b[38;5;241m=\u001b[39m\u001b[38;5;241m2725\u001b[39m, total_tokens\u001b[38;5;241m=\u001b[39m\u001b[38;5;241m2825\u001b[39m))]\n",
      "\u001b[1;31mNameError\u001b[0m: name 'Choice' is not defined"
     ]
    }
   ],
   "source": [
    "response=[('id', 'chatcmpl-9Zdk8Ocj0MwO73oufFUO6b4ceBFAc'), ('choices', [Choice(finish_reason='stop', index=0, logprobs=None, message=ChatCompletionMessage(content='The columns in the dataset are as follows:\\n\\n1. University Rank\\n2. Name of University\\n3. Location\\n4. No of student\\n5. No of student per staff\\n6. International Student\\n7. Female Ratio\\n8. OverAll Score\\n9. Teaching Score\\n10. Research Score\\n11. Citations Score\\n12. Industry Income Score\\n13. International Outlook Score\\n\\nThese columns contain information about the universities, including various numerical and categorical data points.', role='assistant', function_call=None, tool_calls=None))]), ('created', 1718281280), ('model', 'gpt-3.5-turbo-0125'), ('object', 'chat.completion'), ('system_fingerprint', None), ('usage', CompletionUsage(completion_tokens=100, prompt_tokens=2725, total_tokens=2825))]"
   ]
  },
  {
   "cell_type": "code",
   "execution_count": null,
   "id": "6a264fda-d5ab-496b-a50c-c5265a1f2087",
   "metadata": {},
   "outputs": [],
   "source": []
  }
 ],
 "metadata": {
  "kernelspec": {
   "display_name": "Python 3 (ipykernel)",
   "language": "python",
   "name": "python3"
  },
  "language_info": {
   "codemirror_mode": {
    "name": "ipython",
    "version": 3
   },
   "file_extension": ".py",
   "mimetype": "text/x-python",
   "name": "python",
   "nbconvert_exporter": "python",
   "pygments_lexer": "ipython3",
   "version": "3.11.7"
  }
 },
 "nbformat": 4,
 "nbformat_minor": 5
}
