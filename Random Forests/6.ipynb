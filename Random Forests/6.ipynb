{
 "cells": [
  {
   "cell_type": "markdown",
   "id": "aadf3e3a",
   "metadata": {},
   "source": [
    "\n",
    "# 6.Bike Hourly rentals data set"
   ]
  },
  {
   "cell_type": "code",
   "execution_count": 4,
   "id": "ad2db6f4",
   "metadata": {},
   "outputs": [],
   "source": [
    "import numpy as np\n",
    "import pandas as pd\n",
    "import seaborn as sns\n",
    "import matplotlib.pyplot as plt\n",
    "from sklearn.preprocessing import MinMaxScaler ,StandardScaler \n",
    "from sklearn.model_selection import train_test_split,cross_val_score\n",
    "from sklearn import preprocessing\n",
    "pd.set_option('display.max_rows',1000)\n",
    "from sklearn.neighbors import KNeighborsRegressor"
   ]
  },
  {
   "cell_type": "code",
   "execution_count": 5,
   "id": "1f2f95d0",
   "metadata": {},
   "outputs": [],
   "source": [
    "from sklearn.linear_model import LinearRegression\n",
    "from sklearn.tree import DecisionTreeRegressor\n",
    "from sklearn.ensemble import RandomForestRegressor\n",
    "from sklearn.neighbors import KNeighborsRegressor\n",
    "from sklearn.model_selection import GridSearchCV\n",
    "\n",
    "from sklearn.metrics import mean_absolute_percentage_error,mean_squared_error,r2_score"
   ]
  },
  {
   "cell_type": "code",
   "execution_count": 6,
   "id": "8910bd9a",
   "metadata": {
    "ExecuteTime": {
     "end_time": "2023-09-18T12:04:48.994422Z",
     "start_time": "2023-09-18T12:04:48.901636Z"
    },
    "scrolled": false
   },
   "outputs": [
    {
     "data": {
      "text/html": [
       "<div>\n",
       "<style scoped>\n",
       "    .dataframe tbody tr th:only-of-type {\n",
       "        vertical-align: middle;\n",
       "    }\n",
       "\n",
       "    .dataframe tbody tr th {\n",
       "        vertical-align: top;\n",
       "    }\n",
       "\n",
       "    .dataframe thead th {\n",
       "        text-align: right;\n",
       "    }\n",
       "</style>\n",
       "<table border=\"1\" class=\"dataframe\">\n",
       "  <thead>\n",
       "    <tr style=\"text-align: right;\">\n",
       "      <th></th>\n",
       "      <th>Date</th>\n",
       "      <th>Season</th>\n",
       "      <th>Hour</th>\n",
       "      <th>Holiday</th>\n",
       "      <th>Day of the Week</th>\n",
       "      <th>Working Day</th>\n",
       "      <th>Weather Type</th>\n",
       "      <th>Temperature F</th>\n",
       "      <th>Temperature Feels F</th>\n",
       "      <th>Humidity</th>\n",
       "      <th>Wind Speed</th>\n",
       "      <th>Casual Users</th>\n",
       "      <th>Registered Users</th>\n",
       "      <th>Total Users</th>\n",
       "    </tr>\n",
       "  </thead>\n",
       "  <tbody>\n",
       "    <tr>\n",
       "      <th>0</th>\n",
       "      <td>1/1/2011</td>\n",
       "      <td>4</td>\n",
       "      <td>0</td>\n",
       "      <td>0</td>\n",
       "      <td>6</td>\n",
       "      <td>0</td>\n",
       "      <td>1</td>\n",
       "      <td>36.6</td>\n",
       "      <td>37.4</td>\n",
       "      <td>81</td>\n",
       "      <td>0</td>\n",
       "      <td>3</td>\n",
       "      <td>13</td>\n",
       "      <td>16</td>\n",
       "    </tr>\n",
       "    <tr>\n",
       "      <th>1</th>\n",
       "      <td>1/1/2011</td>\n",
       "      <td>4</td>\n",
       "      <td>1</td>\n",
       "      <td>0</td>\n",
       "      <td>6</td>\n",
       "      <td>0</td>\n",
       "      <td>1</td>\n",
       "      <td>34.9</td>\n",
       "      <td>35.6</td>\n",
       "      <td>80</td>\n",
       "      <td>0</td>\n",
       "      <td>8</td>\n",
       "      <td>32</td>\n",
       "      <td>40</td>\n",
       "    </tr>\n",
       "    <tr>\n",
       "      <th>2</th>\n",
       "      <td>1/1/2011</td>\n",
       "      <td>4</td>\n",
       "      <td>2</td>\n",
       "      <td>0</td>\n",
       "      <td>6</td>\n",
       "      <td>0</td>\n",
       "      <td>1</td>\n",
       "      <td>34.9</td>\n",
       "      <td>35.6</td>\n",
       "      <td>80</td>\n",
       "      <td>0</td>\n",
       "      <td>5</td>\n",
       "      <td>27</td>\n",
       "      <td>32</td>\n",
       "    </tr>\n",
       "    <tr>\n",
       "      <th>3</th>\n",
       "      <td>1/1/2011</td>\n",
       "      <td>4</td>\n",
       "      <td>3</td>\n",
       "      <td>0</td>\n",
       "      <td>6</td>\n",
       "      <td>0</td>\n",
       "      <td>1</td>\n",
       "      <td>36.6</td>\n",
       "      <td>37.4</td>\n",
       "      <td>75</td>\n",
       "      <td>0</td>\n",
       "      <td>3</td>\n",
       "      <td>10</td>\n",
       "      <td>13</td>\n",
       "    </tr>\n",
       "    <tr>\n",
       "      <th>4</th>\n",
       "      <td>1/1/2011</td>\n",
       "      <td>4</td>\n",
       "      <td>4</td>\n",
       "      <td>0</td>\n",
       "      <td>6</td>\n",
       "      <td>0</td>\n",
       "      <td>1</td>\n",
       "      <td>36.6</td>\n",
       "      <td>37.4</td>\n",
       "      <td>75</td>\n",
       "      <td>0</td>\n",
       "      <td>0</td>\n",
       "      <td>1</td>\n",
       "      <td>1</td>\n",
       "    </tr>\n",
       "  </tbody>\n",
       "</table>\n",
       "</div>"
      ],
      "text/plain": [
       "       Date  Season  Hour  Holiday  Day of the Week  Working Day  \\\n",
       "0  1/1/2011       4     0        0                6            0   \n",
       "1  1/1/2011       4     1        0                6            0   \n",
       "2  1/1/2011       4     2        0                6            0   \n",
       "3  1/1/2011       4     3        0                6            0   \n",
       "4  1/1/2011       4     4        0                6            0   \n",
       "\n",
       "   Weather Type  Temperature F  Temperature Feels F  Humidity  Wind Speed  \\\n",
       "0             1           36.6                 37.4        81           0   \n",
       "1             1           34.9                 35.6        80           0   \n",
       "2             1           34.9                 35.6        80           0   \n",
       "3             1           36.6                 37.4        75           0   \n",
       "4             1           36.6                 37.4        75           0   \n",
       "\n",
       "   Casual Users  Registered Users  Total Users  \n",
       "0             3                13           16  \n",
       "1             8                32           40  \n",
       "2             5                27           32  \n",
       "3             3                10           13  \n",
       "4             0                 1            1  "
      ]
     },
     "execution_count": 6,
     "metadata": {},
     "output_type": "execute_result"
    }
   ],
   "source": [
    "bike=pd.read_csv(r'bike data.csv')\n",
    "df_bike = bike.copy()\n",
    "df_bike.head()\n"
   ]
  },
  {
   "cell_type": "code",
   "execution_count": 7,
   "id": "34c20f3c",
   "metadata": {
    "ExecuteTime": {
     "end_time": "2023-09-18T12:04:49.009347Z",
     "start_time": "2023-09-18T12:04:48.996380Z"
    }
   },
   "outputs": [],
   "source": [
    "df_bike.drop(columns=['Date'],inplace=True)"
   ]
  },
  {
   "cell_type": "code",
   "execution_count": 8,
   "id": "d6086c4e",
   "metadata": {
    "ExecuteTime": {
     "end_time": "2023-09-18T12:04:49.040782Z",
     "start_time": "2023-09-18T12:04:49.012339Z"
    }
   },
   "outputs": [
    {
     "data": {
      "text/html": [
       "<div>\n",
       "<style scoped>\n",
       "    .dataframe tbody tr th:only-of-type {\n",
       "        vertical-align: middle;\n",
       "    }\n",
       "\n",
       "    .dataframe tbody tr th {\n",
       "        vertical-align: top;\n",
       "    }\n",
       "\n",
       "    .dataframe thead th {\n",
       "        text-align: right;\n",
       "    }\n",
       "</style>\n",
       "<table border=\"1\" class=\"dataframe\">\n",
       "  <thead>\n",
       "    <tr style=\"text-align: right;\">\n",
       "      <th></th>\n",
       "      <th>Season</th>\n",
       "      <th>Hour</th>\n",
       "      <th>Holiday</th>\n",
       "      <th>Day of the Week</th>\n",
       "      <th>Working Day</th>\n",
       "      <th>Weather Type</th>\n",
       "      <th>Temperature F</th>\n",
       "      <th>Temperature Feels F</th>\n",
       "      <th>Humidity</th>\n",
       "      <th>Wind Speed</th>\n",
       "      <th>Casual Users</th>\n",
       "      <th>Registered Users</th>\n",
       "      <th>Total Users</th>\n",
       "    </tr>\n",
       "  </thead>\n",
       "  <tbody>\n",
       "    <tr>\n",
       "      <th>0</th>\n",
       "      <td>4</td>\n",
       "      <td>0</td>\n",
       "      <td>0</td>\n",
       "      <td>6</td>\n",
       "      <td>0</td>\n",
       "      <td>1</td>\n",
       "      <td>36.6</td>\n",
       "      <td>37.4</td>\n",
       "      <td>81</td>\n",
       "      <td>0</td>\n",
       "      <td>3</td>\n",
       "      <td>13</td>\n",
       "      <td>16</td>\n",
       "    </tr>\n",
       "    <tr>\n",
       "      <th>1</th>\n",
       "      <td>4</td>\n",
       "      <td>1</td>\n",
       "      <td>0</td>\n",
       "      <td>6</td>\n",
       "      <td>0</td>\n",
       "      <td>1</td>\n",
       "      <td>34.9</td>\n",
       "      <td>35.6</td>\n",
       "      <td>80</td>\n",
       "      <td>0</td>\n",
       "      <td>8</td>\n",
       "      <td>32</td>\n",
       "      <td>40</td>\n",
       "    </tr>\n",
       "    <tr>\n",
       "      <th>2</th>\n",
       "      <td>4</td>\n",
       "      <td>2</td>\n",
       "      <td>0</td>\n",
       "      <td>6</td>\n",
       "      <td>0</td>\n",
       "      <td>1</td>\n",
       "      <td>34.9</td>\n",
       "      <td>35.6</td>\n",
       "      <td>80</td>\n",
       "      <td>0</td>\n",
       "      <td>5</td>\n",
       "      <td>27</td>\n",
       "      <td>32</td>\n",
       "    </tr>\n",
       "    <tr>\n",
       "      <th>3</th>\n",
       "      <td>4</td>\n",
       "      <td>3</td>\n",
       "      <td>0</td>\n",
       "      <td>6</td>\n",
       "      <td>0</td>\n",
       "      <td>1</td>\n",
       "      <td>36.6</td>\n",
       "      <td>37.4</td>\n",
       "      <td>75</td>\n",
       "      <td>0</td>\n",
       "      <td>3</td>\n",
       "      <td>10</td>\n",
       "      <td>13</td>\n",
       "    </tr>\n",
       "    <tr>\n",
       "      <th>4</th>\n",
       "      <td>4</td>\n",
       "      <td>4</td>\n",
       "      <td>0</td>\n",
       "      <td>6</td>\n",
       "      <td>0</td>\n",
       "      <td>1</td>\n",
       "      <td>36.6</td>\n",
       "      <td>37.4</td>\n",
       "      <td>75</td>\n",
       "      <td>0</td>\n",
       "      <td>0</td>\n",
       "      <td>1</td>\n",
       "      <td>1</td>\n",
       "    </tr>\n",
       "  </tbody>\n",
       "</table>\n",
       "</div>"
      ],
      "text/plain": [
       "   Season  Hour  Holiday  Day of the Week  Working Day  Weather Type  \\\n",
       "0       4     0        0                6            0             1   \n",
       "1       4     1        0                6            0             1   \n",
       "2       4     2        0                6            0             1   \n",
       "3       4     3        0                6            0             1   \n",
       "4       4     4        0                6            0             1   \n",
       "\n",
       "   Temperature F  Temperature Feels F  Humidity  Wind Speed  Casual Users  \\\n",
       "0           36.6                 37.4        81           0             3   \n",
       "1           34.9                 35.6        80           0             8   \n",
       "2           34.9                 35.6        80           0             5   \n",
       "3           36.6                 37.4        75           0             3   \n",
       "4           36.6                 37.4        75           0             0   \n",
       "\n",
       "   Registered Users  Total Users  \n",
       "0                13           16  \n",
       "1                32           40  \n",
       "2                27           32  \n",
       "3                10           13  \n",
       "4                 1            1  "
      ]
     },
     "execution_count": 8,
     "metadata": {},
     "output_type": "execute_result"
    }
   ],
   "source": [
    "df_bike.head()"
   ]
  },
  {
   "cell_type": "code",
   "execution_count": 9,
   "id": "b1c30bd0",
   "metadata": {
    "ExecuteTime": {
     "end_time": "2023-09-18T12:04:49.056739Z",
     "start_time": "2023-09-18T12:04:49.045774Z"
    }
   },
   "outputs": [],
   "source": [
    "# As the total users = casual users + registered users, we can drop casual and registered users\n",
    "\n",
    "df_bike.drop(['Casual Users','Registered Users'],inplace=True,axis = 1)"
   ]
  },
  {
   "cell_type": "code",
   "execution_count": 10,
   "id": "447bd915",
   "metadata": {
    "ExecuteTime": {
     "end_time": "2023-09-18T12:04:49.102653Z",
     "start_time": "2023-09-18T12:04:49.058734Z"
    }
   },
   "outputs": [
    {
     "name": "stdout",
     "output_type": "stream",
     "text": [
      "<class 'pandas.core.frame.DataFrame'>\n",
      "RangeIndex: 17379 entries, 0 to 17378\n",
      "Data columns (total 11 columns):\n",
      " #   Column               Non-Null Count  Dtype  \n",
      "---  ------               --------------  -----  \n",
      " 0   Season               17379 non-null  int64  \n",
      " 1   Hour                 17379 non-null  int64  \n",
      " 2   Holiday              17379 non-null  int64  \n",
      " 3   Day of the Week      17379 non-null  int64  \n",
      " 4   Working Day          17379 non-null  int64  \n",
      " 5   Weather Type         17379 non-null  int64  \n",
      " 6   Temperature F        17379 non-null  float64\n",
      " 7   Temperature Feels F  17379 non-null  float64\n",
      " 8   Humidity             17379 non-null  int64  \n",
      " 9   Wind Speed           17379 non-null  int64  \n",
      " 10  Total Users          17379 non-null  int64  \n",
      "dtypes: float64(2), int64(9)\n",
      "memory usage: 1.5 MB\n"
     ]
    }
   ],
   "source": [
    "df_bike.info()\n",
    "\n",
    "# As observed there are  no missing values"
   ]
  },
  {
   "cell_type": "code",
   "execution_count": 11,
   "id": "9779741c",
   "metadata": {
    "ExecuteTime": {
     "end_time": "2023-09-18T12:04:49.180150Z",
     "start_time": "2023-09-18T12:04:49.104611Z"
    }
   },
   "outputs": [
    {
     "data": {
      "text/html": [
       "<div>\n",
       "<style scoped>\n",
       "    .dataframe tbody tr th:only-of-type {\n",
       "        vertical-align: middle;\n",
       "    }\n",
       "\n",
       "    .dataframe tbody tr th {\n",
       "        vertical-align: top;\n",
       "    }\n",
       "\n",
       "    .dataframe thead th {\n",
       "        text-align: right;\n",
       "    }\n",
       "</style>\n",
       "<table border=\"1\" class=\"dataframe\">\n",
       "  <thead>\n",
       "    <tr style=\"text-align: right;\">\n",
       "      <th></th>\n",
       "      <th>Season</th>\n",
       "      <th>Hour</th>\n",
       "      <th>Holiday</th>\n",
       "      <th>Day of the Week</th>\n",
       "      <th>Working Day</th>\n",
       "      <th>Weather Type</th>\n",
       "      <th>Temperature F</th>\n",
       "      <th>Temperature Feels F</th>\n",
       "      <th>Humidity</th>\n",
       "      <th>Wind Speed</th>\n",
       "      <th>Total Users</th>\n",
       "    </tr>\n",
       "  </thead>\n",
       "  <tbody>\n",
       "    <tr>\n",
       "      <th>count</th>\n",
       "      <td>17379.000000</td>\n",
       "      <td>17379.000000</td>\n",
       "      <td>17379.000000</td>\n",
       "      <td>17379.000000</td>\n",
       "      <td>17379.000000</td>\n",
       "      <td>17379.000000</td>\n",
       "      <td>17379.000000</td>\n",
       "      <td>17379.000000</td>\n",
       "      <td>17379.000000</td>\n",
       "      <td>17379.000000</td>\n",
       "      <td>17379.000000</td>\n",
       "    </tr>\n",
       "    <tr>\n",
       "      <th>mean</th>\n",
       "      <td>2.485241</td>\n",
       "      <td>11.546752</td>\n",
       "      <td>0.028770</td>\n",
       "      <td>3.003683</td>\n",
       "      <td>0.682721</td>\n",
       "      <td>1.425283</td>\n",
       "      <td>58.777507</td>\n",
       "      <td>59.722009</td>\n",
       "      <td>62.722884</td>\n",
       "      <td>12.736233</td>\n",
       "      <td>189.463088</td>\n",
       "    </tr>\n",
       "    <tr>\n",
       "      <th>std</th>\n",
       "      <td>1.115985</td>\n",
       "      <td>6.914405</td>\n",
       "      <td>0.167165</td>\n",
       "      <td>2.005771</td>\n",
       "      <td>0.465431</td>\n",
       "      <td>0.639357</td>\n",
       "      <td>16.620757</td>\n",
       "      <td>20.415345</td>\n",
       "      <td>19.292983</td>\n",
       "      <td>8.196891</td>\n",
       "      <td>181.387599</td>\n",
       "    </tr>\n",
       "    <tr>\n",
       "      <th>min</th>\n",
       "      <td>1.000000</td>\n",
       "      <td>0.000000</td>\n",
       "      <td>0.000000</td>\n",
       "      <td>0.000000</td>\n",
       "      <td>0.000000</td>\n",
       "      <td>1.000000</td>\n",
       "      <td>17.600000</td>\n",
       "      <td>3.200000</td>\n",
       "      <td>0.000000</td>\n",
       "      <td>0.000000</td>\n",
       "      <td>1.000000</td>\n",
       "    </tr>\n",
       "    <tr>\n",
       "      <th>25%</th>\n",
       "      <td>1.000000</td>\n",
       "      <td>6.000000</td>\n",
       "      <td>0.000000</td>\n",
       "      <td>1.000000</td>\n",
       "      <td>0.000000</td>\n",
       "      <td>1.000000</td>\n",
       "      <td>45.200000</td>\n",
       "      <td>42.800000</td>\n",
       "      <td>48.000000</td>\n",
       "      <td>7.000000</td>\n",
       "      <td>40.000000</td>\n",
       "    </tr>\n",
       "    <tr>\n",
       "      <th>50%</th>\n",
       "      <td>2.000000</td>\n",
       "      <td>12.000000</td>\n",
       "      <td>0.000000</td>\n",
       "      <td>3.000000</td>\n",
       "      <td>1.000000</td>\n",
       "      <td>1.000000</td>\n",
       "      <td>59.000000</td>\n",
       "      <td>60.800000</td>\n",
       "      <td>63.000000</td>\n",
       "      <td>13.000000</td>\n",
       "      <td>142.000000</td>\n",
       "    </tr>\n",
       "    <tr>\n",
       "      <th>75%</th>\n",
       "      <td>3.000000</td>\n",
       "      <td>18.000000</td>\n",
       "      <td>0.000000</td>\n",
       "      <td>5.000000</td>\n",
       "      <td>1.000000</td>\n",
       "      <td>2.000000</td>\n",
       "      <td>72.800000</td>\n",
       "      <td>77.000000</td>\n",
       "      <td>78.000000</td>\n",
       "      <td>17.000000</td>\n",
       "      <td>281.000000</td>\n",
       "    </tr>\n",
       "    <tr>\n",
       "      <th>max</th>\n",
       "      <td>4.000000</td>\n",
       "      <td>23.000000</td>\n",
       "      <td>1.000000</td>\n",
       "      <td>6.000000</td>\n",
       "      <td>1.000000</td>\n",
       "      <td>4.000000</td>\n",
       "      <td>102.200000</td>\n",
       "      <td>122.000000</td>\n",
       "      <td>100.000000</td>\n",
       "      <td>57.000000</td>\n",
       "      <td>977.000000</td>\n",
       "    </tr>\n",
       "  </tbody>\n",
       "</table>\n",
       "</div>"
      ],
      "text/plain": [
       "             Season          Hour       Holiday  Day of the Week  \\\n",
       "count  17379.000000  17379.000000  17379.000000     17379.000000   \n",
       "mean       2.485241     11.546752      0.028770         3.003683   \n",
       "std        1.115985      6.914405      0.167165         2.005771   \n",
       "min        1.000000      0.000000      0.000000         0.000000   \n",
       "25%        1.000000      6.000000      0.000000         1.000000   \n",
       "50%        2.000000     12.000000      0.000000         3.000000   \n",
       "75%        3.000000     18.000000      0.000000         5.000000   \n",
       "max        4.000000     23.000000      1.000000         6.000000   \n",
       "\n",
       "        Working Day  Weather Type  Temperature F  Temperature Feels F  \\\n",
       "count  17379.000000  17379.000000   17379.000000         17379.000000   \n",
       "mean       0.682721      1.425283      58.777507            59.722009   \n",
       "std        0.465431      0.639357      16.620757            20.415345   \n",
       "min        0.000000      1.000000      17.600000             3.200000   \n",
       "25%        0.000000      1.000000      45.200000            42.800000   \n",
       "50%        1.000000      1.000000      59.000000            60.800000   \n",
       "75%        1.000000      2.000000      72.800000            77.000000   \n",
       "max        1.000000      4.000000     102.200000           122.000000   \n",
       "\n",
       "           Humidity    Wind Speed   Total Users  \n",
       "count  17379.000000  17379.000000  17379.000000  \n",
       "mean      62.722884     12.736233    189.463088  \n",
       "std       19.292983      8.196891    181.387599  \n",
       "min        0.000000      0.000000      1.000000  \n",
       "25%       48.000000      7.000000     40.000000  \n",
       "50%       63.000000     13.000000    142.000000  \n",
       "75%       78.000000     17.000000    281.000000  \n",
       "max      100.000000     57.000000    977.000000  "
      ]
     },
     "execution_count": 11,
     "metadata": {},
     "output_type": "execute_result"
    }
   ],
   "source": [
    "df_bike.describe()\n",
    "#It looks like there might be outliers in wind speed"
   ]
  },
  {
   "cell_type": "code",
   "execution_count": 12,
   "id": "62da654a",
   "metadata": {
    "ExecuteTime": {
     "end_time": "2023-09-18T12:04:49.196099Z",
     "start_time": "2023-09-18T12:04:49.183135Z"
    }
   },
   "outputs": [
    {
     "data": {
      "text/plain": [
       "Season                 0\n",
       "Hour                   0\n",
       "Holiday                0\n",
       "Day of the Week        0\n",
       "Working Day            0\n",
       "Weather Type           0\n",
       "Temperature F          0\n",
       "Temperature Feels F    0\n",
       "Humidity               0\n",
       "Wind Speed             0\n",
       "Total Users            0\n",
       "dtype: int64"
      ]
     },
     "execution_count": 12,
     "metadata": {},
     "output_type": "execute_result"
    }
   ],
   "source": [
    "df_bike.isna().sum()"
   ]
  },
  {
   "cell_type": "code",
   "execution_count": 13,
   "id": "fd887f7b",
   "metadata": {
    "ExecuteTime": {
     "end_time": "2023-09-18T12:04:49.227528Z",
     "start_time": "2023-09-18T12:04:49.198095Z"
    }
   },
   "outputs": [
    {
     "data": {
      "text/plain": [
       "True"
      ]
     },
     "execution_count": 13,
     "metadata": {},
     "output_type": "execute_result"
    }
   ],
   "source": [
    "df_bike.duplicated().any()"
   ]
  },
  {
   "cell_type": "code",
   "execution_count": 14,
   "id": "e6c531c0",
   "metadata": {
    "ExecuteTime": {
     "end_time": "2023-09-18T12:04:49.257448Z",
     "start_time": "2023-09-18T12:04:49.229523Z"
    }
   },
   "outputs": [
    {
     "data": {
      "text/plain": [
       "3"
      ]
     },
     "execution_count": 14,
     "metadata": {},
     "output_type": "execute_result"
    }
   ],
   "source": [
    "df_bike.duplicated().sum()"
   ]
  },
  {
   "cell_type": "code",
   "execution_count": 15,
   "id": "3b769144",
   "metadata": {
    "ExecuteTime": {
     "end_time": "2023-09-18T12:04:49.273406Z",
     "start_time": "2023-09-18T12:04:49.259443Z"
    }
   },
   "outputs": [],
   "source": [
    "df_bike.drop_duplicates(inplace=True)"
   ]
  },
  {
   "cell_type": "code",
   "execution_count": 16,
   "id": "3a455fe5",
   "metadata": {
    "ExecuteTime": {
     "end_time": "2023-09-18T12:04:49.289364Z",
     "start_time": "2023-09-18T12:04:49.275402Z"
    }
   },
   "outputs": [
    {
     "data": {
      "text/plain": [
       "(17376, 11)"
      ]
     },
     "execution_count": 16,
     "metadata": {},
     "output_type": "execute_result"
    }
   ],
   "source": [
    "df_bike.shape"
   ]
  },
  {
   "cell_type": "code",
   "execution_count": 17,
   "id": "4c0ba3a6",
   "metadata": {
    "ExecuteTime": {
     "end_time": "2023-09-18T12:04:49.305320Z",
     "start_time": "2023-09-18T12:04:49.293374Z"
    }
   },
   "outputs": [
    {
     "data": {
      "text/plain": [
       "Index(['Season', 'Hour', 'Holiday', 'Day of the Week', 'Working Day',\n",
       "       'Weather Type', 'Temperature F', 'Temperature Feels F', 'Humidity',\n",
       "       'Wind Speed', 'Total Users'],\n",
       "      dtype='object')"
      ]
     },
     "execution_count": 17,
     "metadata": {},
     "output_type": "execute_result"
    }
   ],
   "source": [
    "df_bike.columns"
   ]
  },
  {
   "cell_type": "code",
   "execution_count": 18,
   "id": "2faa8630",
   "metadata": {
    "ExecuteTime": {
     "end_time": "2023-09-18T12:04:49.336241Z",
     "start_time": "2023-09-18T12:04:49.307315Z"
    }
   },
   "outputs": [
    {
     "name": "stdout",
     "output_type": "stream",
     "text": [
      "lower bounds are:\n",
      " Temperature F          3.8\n",
      "Temperature Feels F   -8.5\n",
      "Humidity               3.0\n",
      "Wind Speed            -8.0\n",
      "dtype: float64\n",
      "----------------------------------------------------------------------\n",
      "upper bounds are:\n",
      " Temperature F          114.2\n",
      "Temperature Feels F    128.3\n",
      "Humidity               123.0\n",
      "Wind Speed              32.0\n",
      "dtype: float64\n"
     ]
    }
   ],
   "source": [
    "num_cols_bike=df_bike[['Temperature F','Temperature Feels F','Humidity','Wind Speed']]\n",
    "Q1 = num_cols_bike.quantile(0.25)\n",
    "Q3 = num_cols_bike.quantile(0.75)\n",
    "IQR = Q3 - Q1\n",
    "lower_bound = Q1 - 1.5 * IQR\n",
    "upper_bound = Q3 + 1.5 * IQR\n",
    "\n",
    "print('lower bounds are:\\n',lower_bound)\n",
    "print('-'*70)\n",
    "print('upper bounds are:\\n',upper_bound)"
   ]
  },
  {
   "cell_type": "code",
   "execution_count": 19,
   "id": "7988f987",
   "metadata": {
    "ExecuteTime": {
     "end_time": "2023-09-18T12:04:49.523331Z",
     "start_time": "2023-09-18T12:04:49.339231Z"
    }
   },
   "outputs": [
    {
     "data": {
      "image/png": "[encoded data removed]",
      "text/plain": [
       "<Figure size 2000x500 with 1 Axes>"
      ]
     },
     "metadata": {},
     "output_type": "display_data"
    }
   ],
   "source": [
    "plt.figure(figsize=(20,5))\n",
    "sns.boxplot(x = df_bike['Temperature F'])\n",
    "plt.title('Box Plot of Temperature F')\n",
    "plt.xlabel('Temperature F')\n",
    "plt.show()"
   ]
  },
  {
   "cell_type": "code",
   "execution_count": 20,
   "id": "f2098dbb",
   "metadata": {
    "ExecuteTime": {
     "end_time": "2023-09-18T12:04:49.695873Z",
     "start_time": "2023-09-18T12:04:49.525329Z"
    }
   },
   "outputs": [
    {
     "data": {
      "image/png": "[encoded data removed]",
      "text/plain": [
       "<Figure size 2000x500 with 1 Axes>"
      ]
     },
     "metadata": {},
     "output_type": "display_data"
    }
   ],
   "source": [
    "plt.figure(figsize=(20,5))\n",
    "sns.boxplot(x = df_bike['Temperature Feels F'])\n",
    "plt.title('Box Plot of Temperature Feels F')\n",
    "plt.xlabel('Temperature Feels F')\n",
    "plt.show()"
   ]
  },
  {
   "cell_type": "code",
   "execution_count": 21,
   "id": "21e3e39b",
   "metadata": {
    "ExecuteTime": {
     "end_time": "2023-09-18T12:04:49.852096Z",
     "start_time": "2023-09-18T12:04:49.698864Z"
    }
   },
   "outputs": [
    {
     "data": {
      "image/png": "[encoded data removed]",
      "text/plain": [
       "<Figure size 2000x500 with 1 Axes>"
      ]
     },
     "metadata": {},
     "output_type": "display_data"
    }
   ],
   "source": [
    "plt.figure(figsize=(20,5))\n",
    "sns.boxplot(x = df_bike['Humidity'])\n",
    "plt.title('Box Plot of Humidity')\n",
    "plt.xlabel('Humidity')\n",
    "plt.show()"
   ]
  },
  {
   "cell_type": "code",
   "execution_count": 22,
   "id": "146d3766",
   "metadata": {
    "ExecuteTime": {
     "end_time": "2023-09-18T12:04:50.023438Z",
     "start_time": "2023-09-18T12:04:49.854054Z"
    }
   },
   "outputs": [
    {
     "data": {
      "image/png": "[encoded data removed]",
      "text/plain": [
       "<Figure size 2000x500 with 1 Axes>"
      ]
     },
     "metadata": {},
     "output_type": "display_data"
    }
   ],
   "source": [
    "plt.figure(figsize=(20,5))\n",
    "sns.boxplot(x = df_bike['Wind Speed'])\n",
    "plt.title('Box Plot of Wind Speed')\n",
    "plt.xlabel('Wind Speed')\n",
    "plt.show()"
   ]
  },
  {
   "cell_type": "code",
   "execution_count": 23,
   "id": "4d997279",
   "metadata": {
    "ExecuteTime": {
     "end_time": "2023-09-18T12:04:50.039356Z",
     "start_time": "2023-09-18T12:04:50.025392Z"
    }
   },
   "outputs": [],
   "source": [
    "# There are outliers in humidity, wind speed"
   ]
  },
  {
   "cell_type": "code",
   "execution_count": 24,
   "id": "423a0553",
   "metadata": {
    "ExecuteTime": {
     "end_time": "2023-09-18T12:04:50.071278Z",
     "start_time": "2023-09-18T12:04:50.041349Z"
    }
   },
   "outputs": [
    {
     "name": "stdout",
     "output_type": "stream",
     "text": [
      "column is: Temperature F\n",
      "min side outliers count is:\n",
      "0\n",
      "max side outliers count is:\n",
      "0\n",
      "----------------------------------------\n",
      "column is: Temperature Feels F\n",
      "min side outliers count is:\n",
      "0\n",
      "max side outliers count is:\n",
      "0\n",
      "----------------------------------------\n",
      "column is: Humidity\n",
      "min side outliers count is:\n",
      "22\n",
      "max side outliers count is:\n",
      "0\n",
      "----------------------------------------\n",
      "column is: Wind Speed\n",
      "min side outliers count is:\n",
      "0\n",
      "max side outliers count is:\n",
      "342\n",
      "----------------------------------------\n"
     ]
    }
   ],
   "source": [
    "for x in num_cols_bike.columns:\n",
    "    print('column is:',x)\n",
    "    print('min side outliers count is:')\n",
    "    print(num_cols_bike[num_cols_bike[x] < lower_bound[x]][x].count())\n",
    "    print('max side outliers count is:')\n",
    "    print(num_cols_bike[num_cols_bike[x] > upper_bound[x]][x].count())\n",
    "    print('-'*40)"
   ]
  },
  {
   "cell_type": "code",
   "execution_count": 25,
   "id": "db3c2e15",
   "metadata": {
    "ExecuteTime": {
     "end_time": "2023-09-18T12:04:50.087227Z",
     "start_time": "2023-09-18T12:04:50.073264Z"
    }
   },
   "outputs": [],
   "source": [
    "for x in num_cols_bike.columns:\n",
    "    df_bike.loc[df_bike[x] > upper_bound[x],x] = upper_bound[x]\n",
    "    df_bike.loc[df_bike[x] < lower_bound[x],x] = lower_bound[x]    "
   ]
  },
  {
   "cell_type": "code",
   "execution_count": 26,
   "id": "fe96762e",
   "metadata": {
    "ExecuteTime": {
     "end_time": "2023-09-18T12:04:50.135098Z",
     "start_time": "2023-09-18T12:04:50.089222Z"
    }
   },
   "outputs": [
    {
     "name": "stdout",
     "output_type": "stream",
     "text": [
      "column is: Temperature F\n",
      "min side outliers count is:\n",
      "0\n",
      "max side outliers count is:\n",
      "0\n",
      "----------------------------------------\n",
      "column is: Temperature Feels F\n",
      "min side outliers count is:\n",
      "0\n",
      "max side outliers count is:\n",
      "0\n",
      "----------------------------------------\n",
      "column is: Humidity\n",
      "min side outliers count is:\n",
      "0\n",
      "max side outliers count is:\n",
      "0\n",
      "----------------------------------------\n",
      "column is: Wind Speed\n",
      "min side outliers count is:\n",
      "0\n",
      "max side outliers count is:\n",
      "0\n",
      "----------------------------------------\n"
     ]
    }
   ],
   "source": [
    "for x in num_cols_bike.columns:\n",
    "    print('column is:',x)\n",
    "    print('min side outliers count is:')\n",
    "    print(df_bike[df_bike[x] < lower_bound[x]][x].count())\n",
    "    print('max side outliers count is:')\n",
    "    print(df_bike[df_bike[x] > upper_bound[x]][x].count())\n",
    "    print('-'*40)"
   ]
  },
  {
   "cell_type": "code",
   "execution_count": 27,
   "id": "bec15a3f",
   "metadata": {
    "ExecuteTime": {
     "end_time": "2023-09-18T12:04:50.166015Z",
     "start_time": "2023-09-18T12:04:50.138091Z"
    }
   },
   "outputs": [
    {
     "data": {
      "text/html": [
       "<div>\n",
       "<style scoped>\n",
       "    .dataframe tbody tr th:only-of-type {\n",
       "        vertical-align: middle;\n",
       "    }\n",
       "\n",
       "    .dataframe tbody tr th {\n",
       "        vertical-align: top;\n",
       "    }\n",
       "\n",
       "    .dataframe thead th {\n",
       "        text-align: right;\n",
       "    }\n",
       "</style>\n",
       "<table border=\"1\" class=\"dataframe\">\n",
       "  <thead>\n",
       "    <tr style=\"text-align: right;\">\n",
       "      <th></th>\n",
       "      <th>Season</th>\n",
       "      <th>Hour</th>\n",
       "      <th>Holiday</th>\n",
       "      <th>Day of the Week</th>\n",
       "      <th>Working Day</th>\n",
       "      <th>Weather Type</th>\n",
       "      <th>Temperature F</th>\n",
       "      <th>Temperature Feels F</th>\n",
       "      <th>Humidity</th>\n",
       "      <th>Wind Speed</th>\n",
       "      <th>Total Users</th>\n",
       "    </tr>\n",
       "  </thead>\n",
       "  <tbody>\n",
       "    <tr>\n",
       "      <th>0</th>\n",
       "      <td>4</td>\n",
       "      <td>0</td>\n",
       "      <td>0</td>\n",
       "      <td>6</td>\n",
       "      <td>0</td>\n",
       "      <td>1</td>\n",
       "      <td>36.6</td>\n",
       "      <td>37.4</td>\n",
       "      <td>81</td>\n",
       "      <td>0</td>\n",
       "      <td>16</td>\n",
       "    </tr>\n",
       "    <tr>\n",
       "      <th>1</th>\n",
       "      <td>4</td>\n",
       "      <td>1</td>\n",
       "      <td>0</td>\n",
       "      <td>6</td>\n",
       "      <td>0</td>\n",
       "      <td>1</td>\n",
       "      <td>34.9</td>\n",
       "      <td>35.6</td>\n",
       "      <td>80</td>\n",
       "      <td>0</td>\n",
       "      <td>40</td>\n",
       "    </tr>\n",
       "    <tr>\n",
       "      <th>2</th>\n",
       "      <td>4</td>\n",
       "      <td>2</td>\n",
       "      <td>0</td>\n",
       "      <td>6</td>\n",
       "      <td>0</td>\n",
       "      <td>1</td>\n",
       "      <td>34.9</td>\n",
       "      <td>35.6</td>\n",
       "      <td>80</td>\n",
       "      <td>0</td>\n",
       "      <td>32</td>\n",
       "    </tr>\n",
       "    <tr>\n",
       "      <th>3</th>\n",
       "      <td>4</td>\n",
       "      <td>3</td>\n",
       "      <td>0</td>\n",
       "      <td>6</td>\n",
       "      <td>0</td>\n",
       "      <td>1</td>\n",
       "      <td>36.6</td>\n",
       "      <td>37.4</td>\n",
       "      <td>75</td>\n",
       "      <td>0</td>\n",
       "      <td>13</td>\n",
       "    </tr>\n",
       "    <tr>\n",
       "      <th>4</th>\n",
       "      <td>4</td>\n",
       "      <td>4</td>\n",
       "      <td>0</td>\n",
       "      <td>6</td>\n",
       "      <td>0</td>\n",
       "      <td>1</td>\n",
       "      <td>36.6</td>\n",
       "      <td>37.4</td>\n",
       "      <td>75</td>\n",
       "      <td>0</td>\n",
       "      <td>1</td>\n",
       "    </tr>\n",
       "  </tbody>\n",
       "</table>\n",
       "</div>"
      ],
      "text/plain": [
       "   Season  Hour  Holiday  Day of the Week  Working Day  Weather Type  \\\n",
       "0       4     0        0                6            0             1   \n",
       "1       4     1        0                6            0             1   \n",
       "2       4     2        0                6            0             1   \n",
       "3       4     3        0                6            0             1   \n",
       "4       4     4        0                6            0             1   \n",
       "\n",
       "   Temperature F  Temperature Feels F  Humidity  Wind Speed  Total Users  \n",
       "0           36.6                 37.4        81           0           16  \n",
       "1           34.9                 35.6        80           0           40  \n",
       "2           34.9                 35.6        80           0           32  \n",
       "3           36.6                 37.4        75           0           13  \n",
       "4           36.6                 37.4        75           0            1  "
      ]
     },
     "execution_count": 27,
     "metadata": {},
     "output_type": "execute_result"
    }
   ],
   "source": [
    "df_bike.head()"
   ]
  },
  {
   "cell_type": "code",
   "execution_count": 28,
   "id": "6b44d636",
   "metadata": {
    "ExecuteTime": {
     "end_time": "2023-09-18T12:04:50.197930Z",
     "start_time": "2023-09-18T12:04:50.171009Z"
    }
   },
   "outputs": [
    {
     "name": "stdout",
     "output_type": "stream",
     "text": [
      "<class 'pandas.core.frame.DataFrame'>\n",
      "Int64Index: 17376 entries, 0 to 17378\n",
      "Data columns (total 11 columns):\n",
      " #   Column               Non-Null Count  Dtype  \n",
      "---  ------               --------------  -----  \n",
      " 0   Season               17376 non-null  int64  \n",
      " 1   Hour                 17376 non-null  int64  \n",
      " 2   Holiday              17376 non-null  int64  \n",
      " 3   Day of the Week      17376 non-null  int64  \n",
      " 4   Working Day          17376 non-null  int64  \n",
      " 5   Weather Type         17376 non-null  int64  \n",
      " 6   Temperature F        17376 non-null  float64\n",
      " 7   Temperature Feels F  17376 non-null  float64\n",
      " 8   Humidity             17376 non-null  int64  \n",
      " 9   Wind Speed           17376 non-null  int64  \n",
      " 10  Total Users          17376 non-null  int64  \n",
      "dtypes: float64(2), int64(9)\n",
      "memory usage: 1.6 MB\n"
     ]
    }
   ],
   "source": [
    "df_bike.info()"
   ]
  },
  {
   "cell_type": "code",
   "execution_count": 29,
   "id": "e38ab8b2",
   "metadata": {
    "ExecuteTime": {
     "end_time": "2023-09-18T12:04:53.081938Z",
     "start_time": "2023-09-18T12:04:50.200924Z"
    }
   },
   "outputs": [
    {
     "name": "stderr",
     "output_type": "stream",
     "text": [
      "C:\\Users\\naren\\AppData\\Local\\Temp\\ipykernel_28892\\2052892412.py:3: UserWarning: Ignoring `palette` because no `hue` variable has been assigned.\n",
      "  sns.histplot(data=df_bike,x='Day of the Week',palette=\"Set3\",ax=axes[0,0],kde=True).set(title=\"Histplot of Day of the Week\")\n",
      "C:\\Users\\naren\\AppData\\Local\\Temp\\ipykernel_28892\\2052892412.py:4: UserWarning: Ignoring `palette` because no `hue` variable has been assigned.\n",
      "  sns.histplot(data=df_bike,x='Temperature F',palette=\"Set3\",ax=axes[0,1],kde=True).set(title=\"Histplot of Temperature F\")\n",
      "C:\\Users\\naren\\AppData\\Local\\Temp\\ipykernel_28892\\2052892412.py:5: UserWarning: Ignoring `palette` because no `hue` variable has been assigned.\n",
      "  sns.histplot(data=df_bike,x='Temperature Feels F',palette=\"Set3\",ax=axes[1,0],kde=True).set(title=\"Histplot of Temperature Feels F\")\n",
      "C:\\Users\\naren\\AppData\\Local\\Temp\\ipykernel_28892\\2052892412.py:6: UserWarning: Ignoring `palette` because no `hue` variable has been assigned.\n",
      "  sns.histplot(data=df_bike,x='Humidity',palette=\"Set3\",ax=axes[1,1],kde=True).set(title=\"Histplot of Humidity\")\n",
      "C:\\Users\\naren\\AppData\\Local\\Temp\\ipykernel_28892\\2052892412.py:7: UserWarning: Ignoring `palette` because no `hue` variable has been assigned.\n",
      "  sns.histplot(data=df_bike,x='Wind Speed',palette=\"Set3\",ax=axes[2,0],kde=True).set(title=\"Histplot of Wind Speed\")\n",
      "C:\\Users\\naren\\AppData\\Local\\Temp\\ipykernel_28892\\2052892412.py:8: UserWarning: Ignoring `palette` because no `hue` variable has been assigned.\n",
      "  sns.histplot(data=df_bike,x='Total Users',palette=\"Set3\",ax=axes[2,1],kde=True).set(title=\"Histplot of Total Users\")\n"
     ]
    },
    {
     "data": {
      "image/png": "[encoded data removed]",
      "text/plain": [
       "<Figure size 2000x1000 with 6 Axes>"
      ]
     },
     "metadata": {},
     "output_type": "display_data"
    }
   ],
   "source": [
    "fig,axes=plt.subplots(3,2,figsize=(20,10))\n",
    "fig.suptitle('Distribution of Numerical columns')\n",
    "sns.histplot(data=df_bike,x='Day of the Week',palette=\"Set3\",ax=axes[0,0],kde=True).set(title=\"Histplot of Day of the Week\")\n",
    "sns.histplot(data=df_bike,x='Temperature F',palette=\"Set3\",ax=axes[0,1],kde=True).set(title=\"Histplot of Temperature F\")\n",
    "sns.histplot(data=df_bike,x='Temperature Feels F',palette=\"Set3\",ax=axes[1,0],kde=True).set(title=\"Histplot of Temperature Feels F\")\n",
    "sns.histplot(data=df_bike,x='Humidity',palette=\"Set3\",ax=axes[1,1],kde=True).set(title=\"Histplot of Humidity\")\n",
    "sns.histplot(data=df_bike,x='Wind Speed',palette=\"Set3\",ax=axes[2,0],kde=True).set(title=\"Histplot of Wind Speed\")\n",
    "sns.histplot(data=df_bike,x='Total Users',palette=\"Set3\",ax=axes[2,1],kde=True).set(title=\"Histplot of Total Users\")\n",
    "fig.tight_layout()"
   ]
  },
  {
   "cell_type": "code",
   "execution_count": 30,
   "id": "0775d1cd",
   "metadata": {
    "ExecuteTime": {
     "end_time": "2023-09-18T12:04:53.706437Z",
     "start_time": "2023-09-18T12:04:53.084906Z"
    }
   },
   "outputs": [
    {
     "data": {
      "text/plain": [
       "Text(0.5, 1.0, 'Weather Type')"
      ]
     },
     "execution_count": 30,
     "metadata": {},
     "output_type": "execute_result"
    },
    {
     "data": {
      "image/png": "[encoded data removed]",
      "text/plain": [
       "<Figure size 1500x1500 with 3 Axes>"
      ]
     },
     "metadata": {},
     "output_type": "display_data"
    }
   ],
   "source": [
    "plt.figure(figsize=(15,15))\n",
    "fig.tight_layout()\n",
    "plt.subplot(1,3,1)\n",
    "plt.pie(df_bike['Season'].value_counts(),labels=df_bike['Season'].value_counts().index,autopct=\"%.2f%%\")\n",
    "plt.title('Season',fontsize=10)\n",
    "plt.subplot(1,3,2)\n",
    "plt.pie(df_bike['Holiday'].value_counts(),labels=df_bike['Holiday'].value_counts().index,autopct=\"%.2f%%\")\n",
    "plt.title('Holiday',fontsize=10)\n",
    "plt.subplot(1,3,3)\n",
    "plt.pie(df_bike['Weather Type'].value_counts(),labels=df_bike['Weather Type'].value_counts().index,autopct=\"%.2f%%\")\n",
    "plt.title('Weather Type',fontsize=10)"
   ]
  },
  {
   "cell_type": "code",
   "execution_count": 31,
   "id": "cc916863",
   "metadata": {
    "ExecuteTime": {
     "end_time": "2023-09-18T12:04:54.162204Z",
     "start_time": "2023-09-18T12:04:53.709416Z"
    }
   },
   "outputs": [
    {
     "data": {
      "text/plain": [
       "<Axes: >"
      ]
     },
     "execution_count": 31,
     "metadata": {},
     "output_type": "execute_result"
    },
    {
     "data": {
      "image/png": "[encoded data removed]",
      "text/plain": [
       "<Figure size 1000x1000 with 2 Axes>"
      ]
     },
     "metadata": {},
     "output_type": "display_data"
    }
   ],
   "source": [
    "plt.figure(figsize=(10,10))\n",
    "df_bike_num_corr = sns.heatmap(num_cols_bike.corr(),annot=True,cmap =\"YlGnBu\",linewidths = 0.1)\n",
    "df_bike_num_corr"
   ]
  },
  {
   "cell_type": "code",
   "execution_count": 32,
   "id": "d2908485",
   "metadata": {
    "ExecuteTime": {
     "end_time": "2023-09-18T12:04:54.178164Z",
     "start_time": "2023-09-18T12:04:54.164198Z"
    }
   },
   "outputs": [],
   "source": [
    "y_main_bike = df_bike['Total Users']\n",
    "df_bike.drop(columns=['Total Users'],inplace=True,axis=1)"
   ]
  },
  {
   "cell_type": "code",
   "execution_count": 33,
   "id": "74087a27",
   "metadata": {
    "ExecuteTime": {
     "end_time": "2023-09-18T12:04:54.210077Z",
     "start_time": "2023-09-18T12:04:54.180155Z"
    }
   },
   "outputs": [
    {
     "data": {
      "text/html": [
       "<div>\n",
       "<style scoped>\n",
       "    .dataframe tbody tr th:only-of-type {\n",
       "        vertical-align: middle;\n",
       "    }\n",
       "\n",
       "    .dataframe tbody tr th {\n",
       "        vertical-align: top;\n",
       "    }\n",
       "\n",
       "    .dataframe thead th {\n",
       "        text-align: right;\n",
       "    }\n",
       "</style>\n",
       "<table border=\"1\" class=\"dataframe\">\n",
       "  <thead>\n",
       "    <tr style=\"text-align: right;\">\n",
       "      <th></th>\n",
       "      <th>Season</th>\n",
       "      <th>Hour</th>\n",
       "      <th>Holiday</th>\n",
       "      <th>Day of the Week</th>\n",
       "      <th>Working Day</th>\n",
       "      <th>Weather Type</th>\n",
       "      <th>Temperature F</th>\n",
       "      <th>Temperature Feels F</th>\n",
       "      <th>Humidity</th>\n",
       "      <th>Wind Speed</th>\n",
       "    </tr>\n",
       "  </thead>\n",
       "  <tbody>\n",
       "    <tr>\n",
       "      <th>0</th>\n",
       "      <td>4</td>\n",
       "      <td>0</td>\n",
       "      <td>0</td>\n",
       "      <td>6</td>\n",
       "      <td>0</td>\n",
       "      <td>1</td>\n",
       "      <td>36.6</td>\n",
       "      <td>37.4</td>\n",
       "      <td>81</td>\n",
       "      <td>0</td>\n",
       "    </tr>\n",
       "    <tr>\n",
       "      <th>1</th>\n",
       "      <td>4</td>\n",
       "      <td>1</td>\n",
       "      <td>0</td>\n",
       "      <td>6</td>\n",
       "      <td>0</td>\n",
       "      <td>1</td>\n",
       "      <td>34.9</td>\n",
       "      <td>35.6</td>\n",
       "      <td>80</td>\n",
       "      <td>0</td>\n",
       "    </tr>\n",
       "    <tr>\n",
       "      <th>2</th>\n",
       "      <td>4</td>\n",
       "      <td>2</td>\n",
       "      <td>0</td>\n",
       "      <td>6</td>\n",
       "      <td>0</td>\n",
       "      <td>1</td>\n",
       "      <td>34.9</td>\n",
       "      <td>35.6</td>\n",
       "      <td>80</td>\n",
       "      <td>0</td>\n",
       "    </tr>\n",
       "    <tr>\n",
       "      <th>3</th>\n",
       "      <td>4</td>\n",
       "      <td>3</td>\n",
       "      <td>0</td>\n",
       "      <td>6</td>\n",
       "      <td>0</td>\n",
       "      <td>1</td>\n",
       "      <td>36.6</td>\n",
       "      <td>37.4</td>\n",
       "      <td>75</td>\n",
       "      <td>0</td>\n",
       "    </tr>\n",
       "    <tr>\n",
       "      <th>4</th>\n",
       "      <td>4</td>\n",
       "      <td>4</td>\n",
       "      <td>0</td>\n",
       "      <td>6</td>\n",
       "      <td>0</td>\n",
       "      <td>1</td>\n",
       "      <td>36.6</td>\n",
       "      <td>37.4</td>\n",
       "      <td>75</td>\n",
       "      <td>0</td>\n",
       "    </tr>\n",
       "  </tbody>\n",
       "</table>\n",
       "</div>"
      ],
      "text/plain": [
       "   Season  Hour  Holiday  Day of the Week  Working Day  Weather Type  \\\n",
       "0       4     0        0                6            0             1   \n",
       "1       4     1        0                6            0             1   \n",
       "2       4     2        0                6            0             1   \n",
       "3       4     3        0                6            0             1   \n",
       "4       4     4        0                6            0             1   \n",
       "\n",
       "   Temperature F  Temperature Feels F  Humidity  Wind Speed  \n",
       "0           36.6                 37.4        81           0  \n",
       "1           34.9                 35.6        80           0  \n",
       "2           34.9                 35.6        80           0  \n",
       "3           36.6                 37.4        75           0  \n",
       "4           36.6                 37.4        75           0  "
      ]
     },
     "execution_count": 33,
     "metadata": {},
     "output_type": "execute_result"
    }
   ],
   "source": [
    "df_bike.head()"
   ]
  },
  {
   "cell_type": "code",
   "execution_count": 34,
   "id": "81501e27",
   "metadata": {
    "ExecuteTime": {
     "end_time": "2023-09-18T12:04:54.241992Z",
     "start_time": "2023-09-18T12:04:54.214065Z"
    }
   },
   "outputs": [],
   "source": [
    "X_num_bike = df_bike[['Temperature F', 'Temperature Feels F', 'Humidity', 'Wind Speed']]\n",
    "ss=MinMaxScaler()\n",
    "scaled_bike = ss.fit_transform(X_num_bike)"
   ]
  },
  {
   "cell_type": "code",
   "execution_count": 35,
   "id": "d4be19d8",
   "metadata": {
    "ExecuteTime": {
     "end_time": "2023-09-18T12:04:54.256951Z",
     "start_time": "2023-09-18T12:04:54.246977Z"
    }
   },
   "outputs": [],
   "source": [
    "scaled_bike = pd.DataFrame(scaled_bike,columns=X_num_bike.columns,index = X_num_bike.index)"
   ]
  },
  {
   "cell_type": "code",
   "execution_count": 36,
   "id": "7c464ede",
   "metadata": {
    "ExecuteTime": {
     "end_time": "2023-09-18T12:04:54.288158Z",
     "start_time": "2023-09-18T12:04:54.260940Z"
    }
   },
   "outputs": [
    {
     "data": {
      "text/html": [
       "<div>\n",
       "<style scoped>\n",
       "    .dataframe tbody tr th:only-of-type {\n",
       "        vertical-align: middle;\n",
       "    }\n",
       "\n",
       "    .dataframe tbody tr th {\n",
       "        vertical-align: top;\n",
       "    }\n",
       "\n",
       "    .dataframe thead th {\n",
       "        text-align: right;\n",
       "    }\n",
       "</style>\n",
       "<table border=\"1\" class=\"dataframe\">\n",
       "  <thead>\n",
       "    <tr style=\"text-align: right;\">\n",
       "      <th></th>\n",
       "      <th>Temperature F</th>\n",
       "      <th>Temperature Feels F</th>\n",
       "      <th>Humidity</th>\n",
       "      <th>Wind Speed</th>\n",
       "      <th>Season</th>\n",
       "      <th>Hour</th>\n",
       "      <th>Holiday</th>\n",
       "      <th>Day of the Week</th>\n",
       "      <th>Working Day</th>\n",
       "      <th>Weather Type</th>\n",
       "    </tr>\n",
       "  </thead>\n",
       "  <tbody>\n",
       "    <tr>\n",
       "      <th>0</th>\n",
       "      <td>0.224586</td>\n",
       "      <td>0.287879</td>\n",
       "      <td>0.804124</td>\n",
       "      <td>0.0</td>\n",
       "      <td>4</td>\n",
       "      <td>0</td>\n",
       "      <td>0</td>\n",
       "      <td>6</td>\n",
       "      <td>0</td>\n",
       "      <td>1</td>\n",
       "    </tr>\n",
       "    <tr>\n",
       "      <th>1</th>\n",
       "      <td>0.204492</td>\n",
       "      <td>0.272727</td>\n",
       "      <td>0.793814</td>\n",
       "      <td>0.0</td>\n",
       "      <td>4</td>\n",
       "      <td>1</td>\n",
       "      <td>0</td>\n",
       "      <td>6</td>\n",
       "      <td>0</td>\n",
       "      <td>1</td>\n",
       "    </tr>\n",
       "    <tr>\n",
       "      <th>2</th>\n",
       "      <td>0.204492</td>\n",
       "      <td>0.272727</td>\n",
       "      <td>0.793814</td>\n",
       "      <td>0.0</td>\n",
       "      <td>4</td>\n",
       "      <td>2</td>\n",
       "      <td>0</td>\n",
       "      <td>6</td>\n",
       "      <td>0</td>\n",
       "      <td>1</td>\n",
       "    </tr>\n",
       "    <tr>\n",
       "      <th>3</th>\n",
       "      <td>0.224586</td>\n",
       "      <td>0.287879</td>\n",
       "      <td>0.742268</td>\n",
       "      <td>0.0</td>\n",
       "      <td>4</td>\n",
       "      <td>3</td>\n",
       "      <td>0</td>\n",
       "      <td>6</td>\n",
       "      <td>0</td>\n",
       "      <td>1</td>\n",
       "    </tr>\n",
       "    <tr>\n",
       "      <th>4</th>\n",
       "      <td>0.224586</td>\n",
       "      <td>0.287879</td>\n",
       "      <td>0.742268</td>\n",
       "      <td>0.0</td>\n",
       "      <td>4</td>\n",
       "      <td>4</td>\n",
       "      <td>0</td>\n",
       "      <td>6</td>\n",
       "      <td>0</td>\n",
       "      <td>1</td>\n",
       "    </tr>\n",
       "  </tbody>\n",
       "</table>\n",
       "</div>"
      ],
      "text/plain": [
       "   Temperature F  Temperature Feels F  Humidity  Wind Speed  Season  Hour  \\\n",
       "0       0.224586             0.287879  0.804124         0.0       4     0   \n",
       "1       0.204492             0.272727  0.793814         0.0       4     1   \n",
       "2       0.204492             0.272727  0.793814         0.0       4     2   \n",
       "3       0.224586             0.287879  0.742268         0.0       4     3   \n",
       "4       0.224586             0.287879  0.742268         0.0       4     4   \n",
       "\n",
       "   Holiday  Day of the Week  Working Day  Weather Type  \n",
       "0        0                6            0             1  \n",
       "1        0                6            0             1  \n",
       "2        0                6            0             1  \n",
       "3        0                6            0             1  \n",
       "4        0                6            0             1  "
      ]
     },
     "execution_count": 36,
     "metadata": {},
     "output_type": "execute_result"
    }
   ],
   "source": [
    "X_main_bike = pd.concat([scaled_bike,df_bike[['Season','Hour','Holiday','Day of the Week','Working Day','Weather Type']]],axis=1)\n",
    "X_main_bike.head()"
   ]
  },
  {
   "cell_type": "code",
   "execution_count": 53,
   "id": "1555ab27",
   "metadata": {
    "ExecuteTime": {
     "end_time": "2023-09-18T12:04:54.304114Z",
     "start_time": "2023-09-18T12:04:54.290153Z"
    }
   },
   "outputs": [],
   "source": [
    "X_train, X_test, y_train,y_test = train_test_split(X_main_bike,y_main_bike,test_size=0.3)"
   ]
  },
  {
   "cell_type": "code",
   "execution_count": 55,
   "id": "a66d2cca",
   "metadata": {
    "ExecuteTime": {
     "end_time": "2023-09-18T12:04:54.320075Z",
     "start_time": "2023-09-18T12:04:54.306110Z"
    },
    "scrolled": true
   },
   "outputs": [
    {
     "name": "stdout",
     "output_type": "stream",
     "text": [
      "Shape of X_train is: (12163, 10)\n"
     ]
    },
    {
     "ename": "NameError",
     "evalue": "name 'X_test_bike' is not defined",
     "output_type": "error",
     "traceback": [
      "\u001b[1;31m---------------------------------------------------------------------------\u001b[0m",
      "\u001b[1;31mNameError\u001b[0m                                 Traceback (most recent call last)",
      "Cell \u001b[1;32mIn[55], line 2\u001b[0m\n\u001b[0;32m      1\u001b[0m \u001b[38;5;28mprint\u001b[39m(\u001b[38;5;124m'\u001b[39m\u001b[38;5;124mShape of X_train is:\u001b[39m\u001b[38;5;124m'\u001b[39m, X_train\u001b[38;5;241m.\u001b[39mshape)\n\u001b[1;32m----> 2\u001b[0m \u001b[38;5;28mprint\u001b[39m(\u001b[38;5;124m'\u001b[39m\u001b[38;5;124mShape of X_test is:\u001b[39m\u001b[38;5;124m'\u001b[39m, X_test_bike\u001b[38;5;241m.\u001b[39mshape)\n\u001b[0;32m      3\u001b[0m \u001b[38;5;28mprint\u001b[39m(\u001b[38;5;124m'\u001b[39m\u001b[38;5;124mShape of y_train is:\u001b[39m\u001b[38;5;124m'\u001b[39m, y_train_bike\u001b[38;5;241m.\u001b[39mshape)\n\u001b[0;32m      4\u001b[0m \u001b[38;5;28mprint\u001b[39m(\u001b[38;5;124m'\u001b[39m\u001b[38;5;124mShape of y_test is:\u001b[39m\u001b[38;5;124m'\u001b[39m, y_test_bike\u001b[38;5;241m.\u001b[39mshape)\n",
      "\u001b[1;31mNameError\u001b[0m: name 'X_test_bike' is not defined"
     ]
    }
   ],
   "source": [
    "print('Shape of X_train is:', X_train.shape)\n",
    "print('Shape of X_test is:', X_test_bike.shape)\n",
    "print('Shape of y_train is:', y_train_bike.shape)\n",
    "print('Shape of y_test is:', y_test_bike.shape)"
   ]
  },
  {
   "cell_type": "code",
   "execution_count": 42,
   "id": "d4784fb8",
   "metadata": {},
   "outputs": [],
   "source": [
    "import warnings\n",
    "warnings.filterwarnings(\"ignore\")"
   ]
  },
  {
   "cell_type": "code",
   "execution_count": 43,
   "id": "9c97ed04",
   "metadata": {},
   "outputs": [
    {
     "data": {
      "text/plain": [
       "<matplotlib.legend.Legend at 0x244ff7c2a90>"
      ]
     },
     "execution_count": 43,
     "metadata": {},
     "output_type": "execute_result"
    },
    {
     "data": {
      "image/png": "[encoded data removed]",
      "text/plain": [
       "<Figure size 640x480 with 1 Axes>"
      ]
     },
     "metadata": {},
     "output_type": "display_data"
    }
   ],
   "source": [
    "variance_lst=[]\n",
    "bias_lst=[]\n",
    "B=13\n",
    "for j in range(2,16,1):   #running this for various levels of depth. i.e 2 to 16\n",
    "    df_rf=pd.DataFrame()    #creating an empty Dataframe\n",
    "    for i in np.arange(1,B,1):      #This Loop is for fitting B models. In this case its 6.\n",
    "        X_train_RF=X_train.sample(frac=0.9)    #randomly selecting 90 of the rows from original train dataset\n",
    "        y_train_RF=y_train.loc[X_train_RF.index]\n",
    "        dtree=DecisionTreeRegressor(max_depth=j)\n",
    "        model=dtree.fit(X_train_RF,y_train_RF)    #fitting the model with Train data\n",
    "        pred_rf=model.predict(X_test)             #X_test is used for prediction and it is stored in df_rf\n",
    "        df_rf[f'yhat_{i}']=pred_rf\n",
    "#In the below step the expected yhat value is calculated and added as column in the Dataframe\n",
    "    df_rf['exp_yhat']= df_rf.sum(axis=1)/B\n",
    "    df_rf.index=X_test.index  \n",
    "    df_rf['y'] = y_test     \n",
    "    df_rf['variance']=0\n",
    "    df_rf['bias']=(df_rf['exp_yhat']-df_rf['y'])**2/B           #calculating Bias-square\n",
    "    for k in range(0,len(df_rf)):\n",
    "        df_rf['variance'].iloc[k]=df_rf.iloc[k,0:B].var(ddof=0) #calculating Variance\n",
    "    variance_lst.append(df_rf['variance'].mean())\n",
    "    bias_lst.append(df_rf['bias'].mean())\n",
    "#     print(df_rf['variance'].mean(),df_rf['bias'].mean())\n",
    "df_var_bias=pd.DataFrame({'Depth':list(np.arange(2,16,1)),'Variance':variance_lst,'Bias':bias_lst})  \n",
    "sns.lineplot(df_var_bias,x='Depth',y='Variance',marker='o',label='Variance')\n",
    "sns.lineplot(df_var_bias,x='Depth',y='Bias',marker='*',label='Bias-sqr')\n",
    "plt.legend()"
   ]
  },
  {
   "cell_type": "code",
   "execution_count": 39,
   "id": "057c9f39",
   "metadata": {},
   "outputs": [
    {
     "data": {
      "text/html": [
       "<div>\n",
       "<style scoped>\n",
       "    .dataframe tbody tr th:only-of-type {\n",
       "        vertical-align: middle;\n",
       "    }\n",
       "\n",
       "    .dataframe tbody tr th {\n",
       "        vertical-align: top;\n",
       "    }\n",
       "\n",
       "    .dataframe thead th {\n",
       "        text-align: right;\n",
       "    }\n",
       "</style>\n",
       "<table border=\"1\" class=\"dataframe\">\n",
       "  <thead>\n",
       "    <tr style=\"text-align: right;\">\n",
       "      <th></th>\n",
       "      <th>yhat_1</th>\n",
       "      <th>yhat_2</th>\n",
       "      <th>yhat_3</th>\n",
       "      <th>yhat_4</th>\n",
       "      <th>yhat_5</th>\n",
       "      <th>yhat_6</th>\n",
       "      <th>yhat_7</th>\n",
       "      <th>yhat_8</th>\n",
       "      <th>yhat_9</th>\n",
       "      <th>yhat_10</th>\n",
       "      <th>yhat_11</th>\n",
       "      <th>yhat_12</th>\n",
       "      <th>exp_yhat</th>\n",
       "      <th>y</th>\n",
       "      <th>variance</th>\n",
       "      <th>bias</th>\n",
       "    </tr>\n",
       "  </thead>\n",
       "  <tbody>\n",
       "    <tr>\n",
       "      <th>17150</th>\n",
       "      <td>20.000000</td>\n",
       "      <td>56.000000</td>\n",
       "      <td>123.000000</td>\n",
       "      <td>20.000000</td>\n",
       "      <td>148.000000</td>\n",
       "      <td>130.666667</td>\n",
       "      <td>139.666667</td>\n",
       "      <td>148.000000</td>\n",
       "      <td>138.000000</td>\n",
       "      <td>124.000000</td>\n",
       "      <td>56.000000</td>\n",
       "      <td>148.000000</td>\n",
       "      <td>96.256410</td>\n",
       "      <td>90</td>\n",
       "      <td>2191.283786</td>\n",
       "      <td>3.010975</td>\n",
       "    </tr>\n",
       "    <tr>\n",
       "      <th>5063</th>\n",
       "      <td>178.333333</td>\n",
       "      <td>267.666667</td>\n",
       "      <td>211.000000</td>\n",
       "      <td>209.000000</td>\n",
       "      <td>274.000000</td>\n",
       "      <td>332.000000</td>\n",
       "      <td>272.000000</td>\n",
       "      <td>209.000000</td>\n",
       "      <td>247.000000</td>\n",
       "      <td>236.000000</td>\n",
       "      <td>283.500000</td>\n",
       "      <td>332.000000</td>\n",
       "      <td>234.730769</td>\n",
       "      <td>88</td>\n",
       "      <td>2022.972855</td>\n",
       "      <td>1656.147588</td>\n",
       "    </tr>\n",
       "    <tr>\n",
       "      <th>3581</th>\n",
       "      <td>5.000000</td>\n",
       "      <td>6.000000</td>\n",
       "      <td>5.000000</td>\n",
       "      <td>8.000000</td>\n",
       "      <td>7.200000</td>\n",
       "      <td>5.000000</td>\n",
       "      <td>13.000000</td>\n",
       "      <td>8.000000</td>\n",
       "      <td>5.000000</td>\n",
       "      <td>5.000000</td>\n",
       "      <td>5.000000</td>\n",
       "      <td>8.000000</td>\n",
       "      <td>6.169231</td>\n",
       "      <td>5</td>\n",
       "      <td>4.852357</td>\n",
       "      <td>0.105162</td>\n",
       "    </tr>\n",
       "    <tr>\n",
       "      <th>841</th>\n",
       "      <td>184.132653</td>\n",
       "      <td>185.552632</td>\n",
       "      <td>115.481481</td>\n",
       "      <td>141.691176</td>\n",
       "      <td>185.200000</td>\n",
       "      <td>117.218750</td>\n",
       "      <td>180.950000</td>\n",
       "      <td>117.454545</td>\n",
       "      <td>177.645833</td>\n",
       "      <td>186.159091</td>\n",
       "      <td>184.030928</td>\n",
       "      <td>184.107527</td>\n",
       "      <td>150.740355</td>\n",
       "      <td>66</td>\n",
       "      <td>802.759563</td>\n",
       "      <td>552.379061</td>\n",
       "    </tr>\n",
       "    <tr>\n",
       "      <th>5551</th>\n",
       "      <td>31.666667</td>\n",
       "      <td>33.833333</td>\n",
       "      <td>45.250000</td>\n",
       "      <td>36.000000</td>\n",
       "      <td>32.333333</td>\n",
       "      <td>44.000000</td>\n",
       "      <td>32.076923</td>\n",
       "      <td>24.000000</td>\n",
       "      <td>30.833333</td>\n",
       "      <td>36.000000</td>\n",
       "      <td>48.111111</td>\n",
       "      <td>36.333333</td>\n",
       "      <td>33.110618</td>\n",
       "      <td>27</td>\n",
       "      <td>40.475277</td>\n",
       "      <td>2.872281</td>\n",
       "    </tr>\n",
       "    <tr>\n",
       "      <th>...</th>\n",
       "      <td>...</td>\n",
       "      <td>...</td>\n",
       "      <td>...</td>\n",
       "      <td>...</td>\n",
       "      <td>...</td>\n",
       "      <td>...</td>\n",
       "      <td>...</td>\n",
       "      <td>...</td>\n",
       "      <td>...</td>\n",
       "      <td>...</td>\n",
       "      <td>...</td>\n",
       "      <td>...</td>\n",
       "      <td>...</td>\n",
       "      <td>...</td>\n",
       "      <td>...</td>\n",
       "      <td>...</td>\n",
       "    </tr>\n",
       "    <tr>\n",
       "      <th>9912</th>\n",
       "      <td>12.000000</td>\n",
       "      <td>9.000000</td>\n",
       "      <td>11.000000</td>\n",
       "      <td>11.000000</td>\n",
       "      <td>8.000000</td>\n",
       "      <td>22.000000</td>\n",
       "      <td>11.000000</td>\n",
       "      <td>10.750000</td>\n",
       "      <td>14.666667</td>\n",
       "      <td>5.000000</td>\n",
       "      <td>9.000000</td>\n",
       "      <td>4.000000</td>\n",
       "      <td>9.801282</td>\n",
       "      <td>15</td>\n",
       "      <td>18.182474</td>\n",
       "      <td>2.078974</td>\n",
       "    </tr>\n",
       "    <tr>\n",
       "      <th>16315</th>\n",
       "      <td>429.050000</td>\n",
       "      <td>452.285714</td>\n",
       "      <td>316.900000</td>\n",
       "      <td>384.769231</td>\n",
       "      <td>382.529412</td>\n",
       "      <td>456.769231</td>\n",
       "      <td>323.026316</td>\n",
       "      <td>352.571429</td>\n",
       "      <td>388.333333</td>\n",
       "      <td>428.038462</td>\n",
       "      <td>402.000000</td>\n",
       "      <td>389.785714</td>\n",
       "      <td>362.004526</td>\n",
       "      <td>525</td>\n",
       "      <td>1811.761704</td>\n",
       "      <td>2043.655728</td>\n",
       "    </tr>\n",
       "    <tr>\n",
       "      <th>10019</th>\n",
       "      <td>150.961538</td>\n",
       "      <td>136.714286</td>\n",
       "      <td>161.975610</td>\n",
       "      <td>141.691176</td>\n",
       "      <td>163.690909</td>\n",
       "      <td>175.097561</td>\n",
       "      <td>189.105263</td>\n",
       "      <td>144.617021</td>\n",
       "      <td>170.462687</td>\n",
       "      <td>131.833333</td>\n",
       "      <td>165.812500</td>\n",
       "      <td>144.526316</td>\n",
       "      <td>144.345246</td>\n",
       "      <td>177</td>\n",
       "      <td>264.629462</td>\n",
       "      <td>82.025611</td>\n",
       "    </tr>\n",
       "    <tr>\n",
       "      <th>4568</th>\n",
       "      <td>185.500000</td>\n",
       "      <td>146.857143</td>\n",
       "      <td>193.000000</td>\n",
       "      <td>151.777778</td>\n",
       "      <td>121.000000</td>\n",
       "      <td>170.833333</td>\n",
       "      <td>106.000000</td>\n",
       "      <td>190.000000</td>\n",
       "      <td>149.176471</td>\n",
       "      <td>159.884615</td>\n",
       "      <td>126.750000</td>\n",
       "      <td>156.875000</td>\n",
       "      <td>142.896488</td>\n",
       "      <td>130</td>\n",
       "      <td>651.801499</td>\n",
       "      <td>12.793800</td>\n",
       "    </tr>\n",
       "    <tr>\n",
       "      <th>17053</th>\n",
       "      <td>665.625000</td>\n",
       "      <td>594.000000</td>\n",
       "      <td>610.200000</td>\n",
       "      <td>715.500000</td>\n",
       "      <td>731.000000</td>\n",
       "      <td>622.750000</td>\n",
       "      <td>453.833333</td>\n",
       "      <td>622.750000</td>\n",
       "      <td>563.333333</td>\n",
       "      <td>665.625000</td>\n",
       "      <td>665.625000</td>\n",
       "      <td>764.500000</td>\n",
       "      <td>590.364744</td>\n",
       "      <td>662</td>\n",
       "      <td>5986.019871</td>\n",
       "      <td>394.739228</td>\n",
       "    </tr>\n",
       "  </tbody>\n",
       "</table>\n",
       "<p>5213 rows × 16 columns</p>\n",
       "</div>"
      ],
      "text/plain": [
       "           yhat_1      yhat_2      yhat_3      yhat_4      yhat_5      yhat_6  \\\n",
       "17150   20.000000   56.000000  123.000000   20.000000  148.000000  130.666667   \n",
       "5063   178.333333  267.666667  211.000000  209.000000  274.000000  332.000000   \n",
       "3581     5.000000    6.000000    5.000000    8.000000    7.200000    5.000000   \n",
       "841    184.132653  185.552632  115.481481  141.691176  185.200000  117.218750   \n",
       "5551    31.666667   33.833333   45.250000   36.000000   32.333333   44.000000   \n",
       "...           ...         ...         ...         ...         ...         ...   \n",
       "9912    12.000000    9.000000   11.000000   11.000000    8.000000   22.000000   \n",
       "16315  429.050000  452.285714  316.900000  384.769231  382.529412  456.769231   \n",
       "10019  150.961538  136.714286  161.975610  141.691176  163.690909  175.097561   \n",
       "4568   185.500000  146.857143  193.000000  151.777778  121.000000  170.833333   \n",
       "17053  665.625000  594.000000  610.200000  715.500000  731.000000  622.750000   \n",
       "\n",
       "           yhat_7      yhat_8      yhat_9     yhat_10     yhat_11     yhat_12  \\\n",
       "17150  139.666667  148.000000  138.000000  124.000000   56.000000  148.000000   \n",
       "5063   272.000000  209.000000  247.000000  236.000000  283.500000  332.000000   \n",
       "3581    13.000000    8.000000    5.000000    5.000000    5.000000    8.000000   \n",
       "841    180.950000  117.454545  177.645833  186.159091  184.030928  184.107527   \n",
       "5551    32.076923   24.000000   30.833333   36.000000   48.111111   36.333333   \n",
       "...           ...         ...         ...         ...         ...         ...   \n",
       "9912    11.000000   10.750000   14.666667    5.000000    9.000000    4.000000   \n",
       "16315  323.026316  352.571429  388.333333  428.038462  402.000000  389.785714   \n",
       "10019  189.105263  144.617021  170.462687  131.833333  165.812500  144.526316   \n",
       "4568   106.000000  190.000000  149.176471  159.884615  126.750000  156.875000   \n",
       "17053  453.833333  622.750000  563.333333  665.625000  665.625000  764.500000   \n",
       "\n",
       "         exp_yhat    y     variance         bias  \n",
       "17150   96.256410   90  2191.283786     3.010975  \n",
       "5063   234.730769   88  2022.972855  1656.147588  \n",
       "3581     6.169231    5     4.852357     0.105162  \n",
       "841    150.740355   66   802.759563   552.379061  \n",
       "5551    33.110618   27    40.475277     2.872281  \n",
       "...           ...  ...          ...          ...  \n",
       "9912     9.801282   15    18.182474     2.078974  \n",
       "16315  362.004526  525  1811.761704  2043.655728  \n",
       "10019  144.345246  177   264.629462    82.025611  \n",
       "4568   142.896488  130   651.801499    12.793800  \n",
       "17053  590.364744  662  5986.019871   394.739228  \n",
       "\n",
       "[5213 rows x 16 columns]"
      ]
     },
     "execution_count": 39,
     "metadata": {},
     "output_type": "execute_result"
    }
   ],
   "source": [
    "df_rf"
   ]
  },
  {
   "cell_type": "code",
   "execution_count": 41,
   "id": "ebd7df89",
   "metadata": {},
   "outputs": [],
   "source": [
    "n_estim = [5,10,15,20,25]\n",
    "max_depth = [3,6,9,10,15]"
   ]
  },
  {
   "cell_type": "code",
   "execution_count": 39,
   "id": "d7a3c9f8",
   "metadata": {},
   "outputs": [],
   "source": [
    "for x in range(len(n_estim)):\n",
    "    rf = RandomForestRegressor(n_estimators=n_estim[x],max_depth=max_depth[x])"
   ]
  },
  {
   "cell_type": "code",
   "execution_count": 279,
   "id": "14952ad1",
   "metadata": {},
   "outputs": [],
   "source": []
  },
  {
   "cell_type": "code",
   "execution_count": 283,
   "id": "0576479a",
   "metadata": {},
   "outputs": [],
   "source": [
    "bias_list = []\n",
    "variance_list = []\n",
    "\n",
    "n_estim = [5,10,15,20,25]\n",
    "\n",
    "for aa in n_estim:\n",
    "    y_pred_df = pd.DataFrame()\n",
    "    for x in range(aa):\n",
    "        train_set_X = X_main_bike.sample(15639)\n",
    "        index = train_set_X.index\n",
    "        train_set_y = y_main_bike[index]\n",
    "\n",
    "        X_train, X_test, y_train,y_test = train_test_split(train_set_X,train_set_y,test_size=0.3)\n",
    "        X_train = X_train.reset_index(drop=True)\n",
    "        X_test = X_test.reset_index(drop=True)\n",
    "        y_train = y_train.reset_index(drop=True)\n",
    "        y_test = y_test.reset_index(drop=True)\n",
    "\n",
    "        rf = RandomForestRegressor(max_depth = 10)\n",
    "        model = rf.fit(X_train,y_train)\n",
    "        y_pred_test = pd.DataFrame(model.predict(X_test))\n",
    "        y_pred_df = pd.concat([y_pred_df,y_pred_test],axis=1)\n",
    "        \n",
    "    y_pred_df.columns = np.arange(1,aa+1)    \n",
    "    y_pred_df['mean'] = 0\n",
    "    for z in range(aa):\n",
    "        y_pred_df['mean'] = y_pred_df['mean'] + y_pred_df.iloc[:,z]\n",
    "    y_pred_df['mean'] = y_pred_df['mean']/aa\n",
    "    \n",
    "        \n",
    "    y_pred_df['var'] = 0\n",
    "    for ab in y_pred_df.columns:\n",
    "        if ab not in ['var','mean']:\n",
    "            y_pred_df['var'] = y_pred_df['var'] + (y_pred_df['mean']-y_pred_df[ab])**2\n",
    "                \n",
    "    y_pred_df['bias'] = 0\n",
    "    y_pred_df['bias'] = (y_test - y_pred_df['mean'])**2\n",
    "        \n",
    "    bias_list.append(y_pred_df['bias'].mean())\n",
    "    variance_list.append(y_pred_df['var'].mean())   \n",
    "    "
   ]
  },
  {
   "cell_type": "code",
   "execution_count": 56,
   "id": "7ffaefb5",
   "metadata": {},
   "outputs": [],
   "source": [
    "bias_list = []\n",
    "variance_list = []\n",
    "\n",
    "n_estim = [5]\n",
    "depths = [2,4,6,8,10,12,14]\n",
    "for ac in depths:\n",
    "    for aa in n_estim:\n",
    "        y_pred_df = pd.DataFrame()\n",
    "        for x in range(aa):\n",
    "            train_set_X = X_main_bike.sample(frac=0.9)\n",
    "            index = train_set_X.index\n",
    "            train_set_y = y_main_bike[index]\n",
    "\n",
    "#             X_train, X_test, y_train,y_test = train_test_split(train_set_X,train_set_y,test_size=0.3)\n",
    "#             X_train = X_train.reset_index(drop=True)\n",
    "#             X_test = X_test.reset_index(drop=True)\n",
    "#             y_train = y_train.reset_index(drop=True)\n",
    "#             y_test = y_test.reset_index(drop=True)\n",
    "\n",
    "            rf = RandomForestRegressor(max_depth = ac)\n",
    "            model = rf.fit(train_set_X,train_set_y)\n",
    "            y_pred_test = pd.DataFrame(model.predict(X_test))\n",
    "            y_pred_df = pd.concat([y_pred_df,y_pred_test],axis=1)\n",
    "\n",
    "        y_pred_df.columns = np.arange(1,aa+1)    \n",
    "\n",
    "        y_pred_df['mean'] = y_pred_df.mean(axis=1)\n",
    "\n",
    "\n",
    "        y_pred_df['var'] = 0\n",
    "        for ab in y_pred_df.columns:\n",
    "            if ab not in ['var','mean']:\n",
    "                y_pred_df['var'] = y_pred_df['var'] + (y_pred_df['mean']-y_pred_df[ab])**2\n",
    "\n",
    "        y_pred_df['bias'] = ((y_test - y_pred_df['mean'])**2)/5\n",
    "\n",
    "        bias_list.append(y_pred_df['bias'].mean())\n",
    "        variance_list.append(y_pred_df['var'].mean())   \n",
    "    "
   ]
  },
  {
   "cell_type": "code",
   "execution_count": 58,
   "id": "508941a7",
   "metadata": {},
   "outputs": [
    {
     "data": {
      "text/plain": [
       "3725       2\n",
       "9086     111\n",
       "12176    498\n",
       "7236       5\n",
       "9117     192\n",
       "        ... \n",
       "15176    686\n",
       "1825     221\n",
       "2955      64\n",
       "16471     20\n",
       "16643     27\n",
       "Name: Total Users, Length: 5213, dtype: int64"
      ]
     },
     "execution_count": 58,
     "metadata": {},
     "output_type": "execute_result"
    }
   ],
   "source": [
    "y_test"
   ]
  },
  {
   "cell_type": "code",
   "execution_count": 59,
   "id": "76219855",
   "metadata": {
    "scrolled": true
   },
   "outputs": [
    {
     "data": {
      "text/plain": [
       "0         5.278126\n",
       "1        65.540380\n",
       "2       449.703810\n",
       "3         4.926986\n",
       "4       185.404395\n",
       "           ...    \n",
       "5208    613.278916\n",
       "5209    352.024421\n",
       "5210     84.719194\n",
       "5211     36.486313\n",
       "5212     20.105600\n",
       "Length: 5213, dtype: float64"
      ]
     },
     "execution_count": 59,
     "metadata": {},
     "output_type": "execute_result"
    }
   ],
   "source": [
    "y_pred_df[[1,2,3,4,5]].mean(axis=1)"
   ]
  },
  {
   "cell_type": "code",
   "execution_count": 57,
   "id": "004bffd4",
   "metadata": {},
   "outputs": [
    {
     "data": {
      "text/plain": [
       "<matplotlib.legend.Legend at 0x2448ac95ed0>"
      ]
     },
     "execution_count": 57,
     "metadata": {},
     "output_type": "execute_result"
    },
    {
     "data": {
      "image/png": "[encoded data removed]",
      "text/plain": [
       "<Figure size 640x480 with 1 Axes>"
      ]
     },
     "metadata": {},
     "output_type": "display_data"
    }
   ],
   "source": [
    "df_var_bias=pd.DataFrame({'Depth':list(np.arange(2,16,2)),'Variance':variance_list,'Bias':bias_list})  \n",
    "sns.lineplot(data = df_var_bias,x='Depth',y='Variance',marker='o',label='Variance')\n",
    "sns.lineplot(data = df_var_bias,x='Depth',y='Bias',marker='*',label='Bias-sqr')\n",
    "plt.legend()"
   ]
  },
  {
   "cell_type": "code",
   "execution_count": null,
   "id": "9f24f7d6",
   "metadata": {},
   "outputs": [],
   "source": []
  },
  {
   "cell_type": "code",
   "execution_count": null,
   "id": "9ce09bc3",
   "metadata": {},
   "outputs": [],
   "source": []
  },
  {
   "cell_type": "code",
   "execution_count": null,
   "id": "28acd9a9",
   "metadata": {},
   "outputs": [],
   "source": []
  },
  {
   "cell_type": "code",
   "execution_count": null,
   "id": "99982701",
   "metadata": {},
   "outputs": [],
   "source": []
  },
  {
   "cell_type": "code",
   "execution_count": null,
   "id": "714d2169",
   "metadata": {},
   "outputs": [],
   "source": []
  },
  {
   "cell_type": "code",
   "execution_count": null,
   "id": "410039ab",
   "metadata": {},
   "outputs": [],
   "source": []
  },
  {
   "cell_type": "code",
   "execution_count": 251,
   "id": "a0a3b49f",
   "metadata": {},
   "outputs": [],
   "source": []
  },
  {
   "cell_type": "code",
   "execution_count": 231,
   "id": "c7b67cd3",
   "metadata": {},
   "outputs": [],
   "source": [
    "y_pred_df['var'] = 0\n",
    "for x in y_pred_df.columns:\n",
    "    if x not in ['var','mean']:\n",
    "        y_pred_df['var'] = y_pred_df['var'] + (y_pred_df['mean']-y_pred_df[x])**2"
   ]
  },
  {
   "cell_type": "code",
   "execution_count": 245,
   "id": "f0fc31bd",
   "metadata": {},
   "outputs": [],
   "source": [
    "y_pred_df['bias'] = 0\n",
    "y_pred_df['bias'] = (y_test - y_pred_df['mean'])**2"
   ]
  },
  {
   "cell_type": "code",
   "execution_count": 247,
   "id": "c871d8d5",
   "metadata": {},
   "outputs": [],
   "source": [
    "y_pred_df = pd.DataFrame()\n",
    "    for x in range(5):\n",
    "        train_set_X = X_main_bike.sample(15639)\n",
    "        index = train_set.index\n",
    "        train_set_y = y_main_bike[index]\n",
    "\n",
    "        X_train, X_test, y_train,y_test = train_test_split(train_set_X,train_set_y,test_size=0.3)\n",
    "        X_train = X_train.reset_index(drop=True)\n",
    "        X_test = X_test.reset_index(drop=True)\n",
    "        y_train = y_train.reset_index(drop=True)\n",
    "        y_test = y_test.reset_index(drop=True)\n",
    "\n",
    "        rf = RandomForestRegressor(max_depth = 10)\n",
    "        model = rf.fit(X_train,y_train)\n",
    "        y_pred_test = pd.DataFrame(model.predict(X_test))\n",
    "        y_pred_df = pd.concat([y_pred_df,y_pred_test],axis=1)\n",
    "        \n",
    "        y_pred_df.columns = np.arange(1,6)       \n",
    "        \n",
    "        y_pred_df['mean'] = 0\n",
    "        for x in range(5):\n",
    "            y_pred_df['mean'] = y_pred_df['mean'] + y_pred_df.iloc[:,x]\n",
    "        y_pred_df['mean'] = y_pred_df['mean']/5\n",
    "        \n",
    "        y_pred_df['var'] = 0\n",
    "        for x in y_pred_df.columns:\n",
    "            if x not in ['var','mean']:\n",
    "                y_pred_df['var'] = y_pred_df['var'] + (y_pred_df['mean']-y_pred_df[x])**2\n",
    "                \n",
    "        y_pred_df['bias'] = 0\n",
    "        y_pred_df['bias'] = (y_test - y_pred_df['mean'])**2\n",
    "        \n",
    "        bias_list.append(y_pred_df['bias'].mean())\n",
    "        variance_list.append(y_pred_df['var'].mean()) "
   ]
  },
  {
   "cell_type": "code",
   "execution_count": null,
   "id": "10ebd4b8",
   "metadata": {},
   "outputs": [],
   "source": []
  },
  {
   "cell_type": "code",
   "execution_count": null,
   "id": "ee6bc6e7",
   "metadata": {},
   "outputs": [],
   "source": []
  },
  {
   "cell_type": "code",
   "execution_count": null,
   "id": "1787ddd1",
   "metadata": {},
   "outputs": [],
   "source": []
  },
  {
   "cell_type": "code",
   "execution_count": null,
   "id": "396abc97",
   "metadata": {},
   "outputs": [],
   "source": []
  },
  {
   "cell_type": "code",
   "execution_count": 60,
   "id": "6a575f9d",
   "metadata": {},
   "outputs": [],
   "source": [
    "algorithms = [ KNeighborsRegressor(), DecisionTreeRegressor(), RandomForestRegressor()]"
   ]
  },
  {
   "cell_type": "code",
   "execution_count": 124,
   "id": "f60b5baa",
   "metadata": {},
   "outputs": [],
   "source": [
    "grid_parameters_dt = {\n",
    "    'max_depth' : [3,6,9,10,15,20],\n",
    "    'min_samples_split' : [20,30],\n",
    "    'min_samples_leaf' : [20,30]\n",
    "}\n",
    "\n",
    "grid_parameters_knn = {\n",
    "    'n_neighbors' : [1,2,3,5,10,15,20]\n",
    "}\n",
    "\n",
    "grid_parameters_rf = {\n",
    "    'n_estimators' : [5,10,15,20,25],\n",
    "    'max_depth' : [3,6,9,10,15],\n",
    "    'min_samples_split' : [20,30],\n",
    "    'min_samples_leaf' : [20,30]\n",
    "}\n",
    "\n",
    "param_grid = [grid_parameters_knn,grid_parameters_dt,grid_parameters_rf]"
   ]
  },
  {
   "cell_type": "code",
   "execution_count": 125,
   "id": "1ca6ecbd",
   "metadata": {},
   "outputs": [
    {
     "name": "stdout",
     "output_type": "stream",
     "text": [
      "{'n_neighbors': 15}\n",
      "{'max_depth': 20, 'min_samples_leaf': 20, 'min_samples_split': 20}\n",
      "{'max_depth': 15, 'min_samples_leaf': 20, 'min_samples_split': 20, 'n_estimators': 20}\n"
     ]
    }
   ],
   "source": [
    "# df_algo = pd.DataFrame(columns=['MSE_train','MSE_test','MAPE_train','MAPE_test','R_square_train','R_square_test'])\n",
    "df_algo = pd.DataFrame(columns=['MAPE_train','MAPE_test','R_square_train','R_square_test'])\n",
    "\n",
    "count = 0\n",
    "for x in algorithms:\n",
    "        grid_search = GridSearchCV(estimator=x,param_grid=param_grid[count],n_jobs = -1)\n",
    "        count +=1\n",
    "        grid_search.fit(X_train_bike,y_train_bike)\n",
    "        best_model = grid_search.best_estimator_\n",
    "        print(grid_search.best_params_)\n",
    "        y_pred_train = best_model.predict(X_train_bike)\n",
    "        y_pred_test =  best_model.predict(X_test_bike)\n",
    "#         mse_train = mean_squared_error(y_train_bike,y_pred_train)\n",
    "#         mse_test = mean_squared_error(y_test_bike,y_pred_test)\n",
    "        mape_train = mean_absolute_percentage_error(y_train_bike,y_pred_train)\n",
    "        mape_test = mean_absolute_percentage_error(y_test_bike,y_pred_test)\n",
    "        r2_train = r2_score(y_train_bike,y_pred_train)\n",
    "        r2_test = r2_score(y_test_bike,y_pred_test)\n",
    "        df_algo = df_algo.append({\n",
    "#             'MSE_train': mse_train,\n",
    "#             'MSE_test': mse_test,\n",
    "            'MAPE_train': mape_train,\n",
    "            'MAPE_test': mape_test,\n",
    "            'R_square_train': r2_train,\n",
    "            'R_square_test': r2_test\n",
    "        }, ignore_index=True)"
   ]
  },
  {
   "cell_type": "code",
   "execution_count": null,
   "id": "597a9a15",
   "metadata": {},
   "outputs": [],
   "source": []
  }
 ],
 "metadata": {
  "kernelspec": {
   "display_name": "Python 3 (ipykernel)",
   "language": "python",
   "name": "python3"
  },
  "language_info": {
   "codemirror_mode": {
    "name": "ipython",
    "version": 3
   },
   "file_extension": ".py",
   "mimetype": "text/x-python",
   "name": "python",
   "nbconvert_exporter": "python",
   "pygments_lexer": "ipython3",
   "version": "3.11.3"
  }
 },
 "nbformat": 4,
 "nbformat_minor": 5
}
